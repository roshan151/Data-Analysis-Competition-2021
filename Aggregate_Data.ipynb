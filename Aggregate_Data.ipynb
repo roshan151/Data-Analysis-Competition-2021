{
 "cells": [
  {
   "cell_type": "code",
   "execution_count": 1,
   "metadata": {},
   "outputs": [],
   "source": [
    "import pandas as pd\n",
    "import seaborn as sns\n",
    "import matplotlib.pyplot as plt\n",
    "from matplotlib.pyplot import figure\n",
    "import numpy as np"
   ]
  },
  {
   "cell_type": "code",
   "execution_count": 2,
   "metadata": {},
   "outputs": [],
   "source": [
    "from scipy.cluster.vq import whiten\n",
    "from scipy.cluster.hierarchy import fcluster, linkage, dendrogram\n",
    "from sklearn.preprocessing import StandardScaler"
   ]
  },
  {
   "cell_type": "code",
   "execution_count": 3,
   "metadata": {},
   "outputs": [],
   "source": [
    "spendinfo_nps = pd.read_csv('SpendInfo_NPS.csv')"
   ]
  },
  {
   "cell_type": "code",
   "execution_count": 4,
   "metadata": {},
   "outputs": [
    {
     "data": {
      "text/html": [
       "<div>\n",
       "<style scoped>\n",
       "    .dataframe tbody tr th:only-of-type {\n",
       "        vertical-align: middle;\n",
       "    }\n",
       "\n",
       "    .dataframe tbody tr th {\n",
       "        vertical-align: top;\n",
       "    }\n",
       "\n",
       "    .dataframe thead th {\n",
       "        text-align: right;\n",
       "    }\n",
       "</style>\n",
       "<table border=\"1\" class=\"dataframe\">\n",
       "  <thead>\n",
       "    <tr style=\"text-align: right;\">\n",
       "      <th></th>\n",
       "      <th>Unnamed: 0</th>\n",
       "      <th>UltimateParentAccountID</th>\n",
       "      <th>ARR</th>\n",
       "      <th>QuotaRelief</th>\n",
       "      <th>Revenue</th>\n",
       "      <th>AccountID</th>\n",
       "      <th>SFDCAccountID</th>\n",
       "      <th>2020</th>\n",
       "      <th>NPS_GROUP_2020</th>\n",
       "      <th>2021</th>\n",
       "      <th>NPS_GROUP_2021</th>\n",
       "    </tr>\n",
       "  </thead>\n",
       "  <tbody>\n",
       "    <tr>\n",
       "      <th>0</th>\n",
       "      <td>0</td>\n",
       "      <td>0012J00002Jb6X4QAJ</td>\n",
       "      <td>1.805155e+09</td>\n",
       "      <td>1.123077e+09</td>\n",
       "      <td>NaN</td>\n",
       "      <td>NaN</td>\n",
       "      <td>NaN</td>\n",
       "      <td>NaN</td>\n",
       "      <td>NaN</td>\n",
       "      <td>NaN</td>\n",
       "      <td>NaN</td>\n",
       "    </tr>\n",
       "    <tr>\n",
       "      <th>1</th>\n",
       "      <td>1</td>\n",
       "      <td>0012J00002JbHd3QAF</td>\n",
       "      <td>7.328753e+10</td>\n",
       "      <td>7.824988e+09</td>\n",
       "      <td>NaN</td>\n",
       "      <td>NaN</td>\n",
       "      <td>NaN</td>\n",
       "      <td>NaN</td>\n",
       "      <td>NaN</td>\n",
       "      <td>NaN</td>\n",
       "      <td>NaN</td>\n",
       "    </tr>\n",
       "    <tr>\n",
       "      <th>2</th>\n",
       "      <td>2</td>\n",
       "      <td>0012J00002JbnjJQAR</td>\n",
       "      <td>5.355804e+09</td>\n",
       "      <td>6.018832e+08</td>\n",
       "      <td>1.0</td>\n",
       "      <td>0012J00002JbnjJQAR</td>\n",
       "      <td>0012J00002JbnjJQAR</td>\n",
       "      <td>8.0</td>\n",
       "      <td>Passive</td>\n",
       "      <td>NaN</td>\n",
       "      <td>NaN</td>\n",
       "    </tr>\n",
       "    <tr>\n",
       "      <th>3</th>\n",
       "      <td>3</td>\n",
       "      <td>0012J00002Jc9BeQAJ</td>\n",
       "      <td>1.859820e+10</td>\n",
       "      <td>1.390081e+09</td>\n",
       "      <td>NaN</td>\n",
       "      <td>NaN</td>\n",
       "      <td>NaN</td>\n",
       "      <td>NaN</td>\n",
       "      <td>NaN</td>\n",
       "      <td>NaN</td>\n",
       "      <td>NaN</td>\n",
       "    </tr>\n",
       "    <tr>\n",
       "      <th>4</th>\n",
       "      <td>4</td>\n",
       "      <td>0012J00002KgQlGQAV</td>\n",
       "      <td>5.355923e+09</td>\n",
       "      <td>4.394930e+09</td>\n",
       "      <td>NaN</td>\n",
       "      <td>NaN</td>\n",
       "      <td>NaN</td>\n",
       "      <td>NaN</td>\n",
       "      <td>NaN</td>\n",
       "      <td>NaN</td>\n",
       "      <td>NaN</td>\n",
       "    </tr>\n",
       "  </tbody>\n",
       "</table>\n",
       "</div>"
      ],
      "text/plain": [
       "   Unnamed: 0 UltimateParentAccountID           ARR   QuotaRelief  Revenue  \\\n",
       "0           0      0012J00002Jb6X4QAJ  1.805155e+09  1.123077e+09      NaN   \n",
       "1           1      0012J00002JbHd3QAF  7.328753e+10  7.824988e+09      NaN   \n",
       "2           2      0012J00002JbnjJQAR  5.355804e+09  6.018832e+08      1.0   \n",
       "3           3      0012J00002Jc9BeQAJ  1.859820e+10  1.390081e+09      NaN   \n",
       "4           4      0012J00002KgQlGQAV  5.355923e+09  4.394930e+09      NaN   \n",
       "\n",
       "            AccountID       SFDCAccountID  2020 NPS_GROUP_2020  2021  \\\n",
       "0                 NaN                 NaN   NaN            NaN   NaN   \n",
       "1                 NaN                 NaN   NaN            NaN   NaN   \n",
       "2  0012J00002JbnjJQAR  0012J00002JbnjJQAR   8.0        Passive   NaN   \n",
       "3                 NaN                 NaN   NaN            NaN   NaN   \n",
       "4                 NaN                 NaN   NaN            NaN   NaN   \n",
       "\n",
       "  NPS_GROUP_2021  \n",
       "0            NaN  \n",
       "1            NaN  \n",
       "2            NaN  \n",
       "3            NaN  \n",
       "4            NaN  "
      ]
     },
     "execution_count": 4,
     "metadata": {},
     "output_type": "execute_result"
    }
   ],
   "source": [
    "spendinfo_nps.head()"
   ]
  },
  {
   "cell_type": "code",
   "execution_count": 5,
   "metadata": {},
   "outputs": [],
   "source": [
    "spendinfo_nps.set_index('UltimateParentAccountID', inplace=True)\n",
    "spendinfo_nps.drop(['Unnamed: 0', 'AccountID', 'SFDCAccountID', 'NPS_GROUP_2020', 'NPS_GROUP_2021'],\n",
    "                   axis = 1, inplace=True)"
   ]
  },
  {
   "cell_type": "code",
   "execution_count": 6,
   "metadata": {},
   "outputs": [],
   "source": [
    "#spendinfo_nps['ARR_scaled'] = whiten(spendinfo_nps['ARR'])\n",
    "#spendinfo_nps['QuotaRelief_scaled'] = whiten(spendinfo_nps['QuotaRelief'])"
   ]
  },
  {
   "cell_type": "code",
   "execution_count": 7,
   "metadata": {},
   "outputs": [
    {
     "data": {
      "text/html": [
       "<div>\n",
       "<style scoped>\n",
       "    .dataframe tbody tr th:only-of-type {\n",
       "        vertical-align: middle;\n",
       "    }\n",
       "\n",
       "    .dataframe tbody tr th {\n",
       "        vertical-align: top;\n",
       "    }\n",
       "\n",
       "    .dataframe thead th {\n",
       "        text-align: right;\n",
       "    }\n",
       "</style>\n",
       "<table border=\"1\" class=\"dataframe\">\n",
       "  <thead>\n",
       "    <tr style=\"text-align: right;\">\n",
       "      <th></th>\n",
       "      <th>ARR</th>\n",
       "      <th>QuotaRelief</th>\n",
       "      <th>Revenue</th>\n",
       "      <th>2020</th>\n",
       "      <th>2021</th>\n",
       "    </tr>\n",
       "    <tr>\n",
       "      <th>UltimateParentAccountID</th>\n",
       "      <th></th>\n",
       "      <th></th>\n",
       "      <th></th>\n",
       "      <th></th>\n",
       "      <th></th>\n",
       "    </tr>\n",
       "  </thead>\n",
       "  <tbody>\n",
       "    <tr>\n",
       "      <th>0012J00002Jb6X4QAJ</th>\n",
       "      <td>-0.314229</td>\n",
       "      <td>-0.160940</td>\n",
       "      <td>NaN</td>\n",
       "      <td>NaN</td>\n",
       "      <td>NaN</td>\n",
       "    </tr>\n",
       "    <tr>\n",
       "      <th>0012J00002JbHd3QAF</th>\n",
       "      <td>0.536729</td>\n",
       "      <td>0.132696</td>\n",
       "      <td>NaN</td>\n",
       "      <td>NaN</td>\n",
       "      <td>NaN</td>\n",
       "    </tr>\n",
       "    <tr>\n",
       "      <th>0012J00002JbnjJQAR</th>\n",
       "      <td>-0.271960</td>\n",
       "      <td>-0.183776</td>\n",
       "      <td>-1.247219</td>\n",
       "      <td>-0.029382</td>\n",
       "      <td>NaN</td>\n",
       "    </tr>\n",
       "    <tr>\n",
       "      <th>0012J00002Jc9BeQAJ</th>\n",
       "      <td>-0.114317</td>\n",
       "      <td>-0.149242</td>\n",
       "      <td>NaN</td>\n",
       "      <td>NaN</td>\n",
       "      <td>NaN</td>\n",
       "    </tr>\n",
       "    <tr>\n",
       "      <th>0012J00002KgQlGQAV</th>\n",
       "      <td>-0.271959</td>\n",
       "      <td>-0.017588</td>\n",
       "      <td>NaN</td>\n",
       "      <td>NaN</td>\n",
       "      <td>NaN</td>\n",
       "    </tr>\n",
       "  </tbody>\n",
       "</table>\n",
       "</div>"
      ],
      "text/plain": [
       "                              ARR  QuotaRelief   Revenue      2020  2021\n",
       "UltimateParentAccountID                                                 \n",
       "0012J00002Jb6X4QAJ      -0.314229    -0.160940       NaN       NaN   NaN\n",
       "0012J00002JbHd3QAF       0.536729     0.132696       NaN       NaN   NaN\n",
       "0012J00002JbnjJQAR      -0.271960    -0.183776 -1.247219 -0.029382   NaN\n",
       "0012J00002Jc9BeQAJ      -0.114317    -0.149242       NaN       NaN   NaN\n",
       "0012J00002KgQlGQAV      -0.271959    -0.017588       NaN       NaN   NaN"
      ]
     },
     "execution_count": 7,
     "metadata": {},
     "output_type": "execute_result"
    }
   ],
   "source": [
    "s = StandardScaler()\n",
    "s.fit(spendinfo_nps)\n",
    "standard_spend = pd.DataFrame(s.transform(spendinfo_nps))\n",
    "standard_spend.columns = spendinfo_nps.columns\n",
    "#standard_spend.rename(mapper=list(spendinfo_nps.index.values))\n",
    "standard_spend.index = spendinfo_nps.index\n",
    "standard_spend.head()"
   ]
  },
  {
   "cell_type": "code",
   "execution_count": 8,
   "metadata": {},
   "outputs": [
    {
     "data": {
      "text/html": [
       "<div>\n",
       "<style scoped>\n",
       "    .dataframe tbody tr th:only-of-type {\n",
       "        vertical-align: middle;\n",
       "    }\n",
       "\n",
       "    .dataframe tbody tr th {\n",
       "        vertical-align: top;\n",
       "    }\n",
       "\n",
       "    .dataframe thead th {\n",
       "        text-align: right;\n",
       "    }\n",
       "</style>\n",
       "<table border=\"1\" class=\"dataframe\">\n",
       "  <thead>\n",
       "    <tr style=\"text-align: right;\">\n",
       "      <th></th>\n",
       "      <th>ARR</th>\n",
       "      <th>QuotaRelief</th>\n",
       "      <th>Revenue</th>\n",
       "      <th>2020</th>\n",
       "      <th>2021</th>\n",
       "    </tr>\n",
       "    <tr>\n",
       "      <th>UltimateParentAccountID</th>\n",
       "      <th></th>\n",
       "      <th></th>\n",
       "      <th></th>\n",
       "      <th></th>\n",
       "      <th></th>\n",
       "    </tr>\n",
       "  </thead>\n",
       "  <tbody>\n",
       "    <tr>\n",
       "      <th>0012J00002Jb6X4QAJ</th>\n",
       "      <td>-0.314229</td>\n",
       "      <td>-0.160940</td>\n",
       "      <td>NaN</td>\n",
       "      <td>NaN</td>\n",
       "      <td>NaN</td>\n",
       "    </tr>\n",
       "    <tr>\n",
       "      <th>0012J00002JbHd3QAF</th>\n",
       "      <td>0.536729</td>\n",
       "      <td>0.132696</td>\n",
       "      <td>NaN</td>\n",
       "      <td>NaN</td>\n",
       "      <td>NaN</td>\n",
       "    </tr>\n",
       "  </tbody>\n",
       "</table>\n",
       "</div>"
      ],
      "text/plain": [
       "                              ARR  QuotaRelief  Revenue  2020  2021\n",
       "UltimateParentAccountID                                            \n",
       "0012J00002Jb6X4QAJ      -0.314229    -0.160940      NaN   NaN   NaN\n",
       "0012J00002JbHd3QAF       0.536729     0.132696      NaN   NaN   NaN"
      ]
     },
     "execution_count": 8,
     "metadata": {},
     "output_type": "execute_result"
    }
   ],
   "source": [
    "#spendinfo_nps.dropna(how='any', inplace=True)\n",
    "standard_spend.head(2)\n",
    "#standard_spend.info()"
   ]
  },
  {
   "cell_type": "code",
   "execution_count": 10,
   "metadata": {},
   "outputs": [],
   "source": [
    "nps2020 = standard_spend.dropna(how='any', subset=['Revenue','2020'])\n",
    "nps2021 = standard_spend.dropna(how='any', subset=['Revenue','2021'])"
   ]
  },
  {
   "cell_type": "code",
   "execution_count": 12,
   "metadata": {},
   "outputs": [],
   "source": [
    "dist_2020 = linkage(nps2020[['ARR','QuotaRelief','Revenue','2020']], method='centroid',\n",
    "                               metric = 'euclidean')"
   ]
  },
  {
   "cell_type": "code",
   "execution_count": 13,
   "metadata": {},
   "outputs": [],
   "source": [
    "dist_2021 = linkage(nps2021[['ARR','QuotaRelief','Revenue','2021']], method='centroid',\n",
    "                               metric = 'euclidean')"
   ]
  },
  {
   "cell_type": "code",
   "execution_count": 14,
   "metadata": {},
   "outputs": [
    {
     "data": {
      "image/png": "[encoded data removed]",
      "text/plain": [
       "<Figure size 1280x640 with 1 Axes>"
      ]
     },
     "metadata": {
      "needs_background": "light"
     },
     "output_type": "display_data"
    }
   ],
   "source": [
    "figure(figsize=(16, 8), dpi=80)\n",
    "dn = dendrogram(dist_2020)\n",
    "plt.show()"
   ]
  },
  {
   "cell_type": "code",
   "execution_count": 15,
   "metadata": {},
   "outputs": [
    {
     "data": {
      "image/png": "[encoded data removed]",
      "text/plain": [
       "<Figure size 1280x640 with 1 Axes>"
      ]
     },
     "metadata": {
      "needs_background": "light"
     },
     "output_type": "display_data"
    }
   ],
   "source": [
    "figure(figsize=(16, 8), dpi=80)\n",
    "dn2 = dendrogram(dist_2021)\n",
    "plt.show()"
   ]
  },
  {
   "cell_type": "code",
   "execution_count": 26,
   "metadata": {},
   "outputs": [
    {
     "name": "stderr",
     "output_type": "stream",
     "text": [
      "C:\\Users\\bendi\\anaconda3\\lib\\site-packages\\pandas\\core\\indexing.py:1745: SettingWithCopyWarning: \n",
      "A value is trying to be set on a copy of a slice from a DataFrame.\n",
      "Try using .loc[row_indexer,col_indexer] = value instead\n",
      "\n",
      "See the caveats in the documentation: https://pandas.pydata.org/pandas-docs/stable/user_guide/indexing.html#returning-a-view-versus-a-copy\n",
      "  isetter(ilocs[0], value)\n"
     ]
    }
   ],
   "source": [
    "nps2020.loc[:,'cluster_labels'] = fcluster(dist_2020, 3, criterion='maxclust')\n",
    "nps2021.loc[:,'cluster_labels'] = fcluster(dist_2021, 3, criterion='maxclust')"
   ]
  },
  {
   "cell_type": "code",
   "execution_count": 40,
   "metadata": {},
   "outputs": [
    {
     "data": {
      "image/png": "[encoded data removed]",
      "text/plain": [
       "<Figure size 432x288 with 1 Axes>"
      ]
     },
     "metadata": {
      "needs_background": "light"
     },
     "output_type": "display_data"
    },
    {
     "data": {
      "text/html": [
       "<div>\n",
       "<style scoped>\n",
       "    .dataframe tbody tr th:only-of-type {\n",
       "        vertical-align: middle;\n",
       "    }\n",
       "\n",
       "    .dataframe tbody tr th {\n",
       "        vertical-align: top;\n",
       "    }\n",
       "\n",
       "    .dataframe thead th {\n",
       "        text-align: right;\n",
       "    }\n",
       "</style>\n",
       "<table border=\"1\" class=\"dataframe\">\n",
       "  <thead>\n",
       "    <tr style=\"text-align: right;\">\n",
       "      <th></th>\n",
       "      <th>ARR</th>\n",
       "      <th>QuotaRelief</th>\n",
       "      <th>Revenue</th>\n",
       "      <th>2020</th>\n",
       "      <th>2021</th>\n",
       "      <th>cluster_labels</th>\n",
       "    </tr>\n",
       "    <tr>\n",
       "      <th>UltimateParentAccountID</th>\n",
       "      <th></th>\n",
       "      <th></th>\n",
       "      <th></th>\n",
       "      <th></th>\n",
       "      <th></th>\n",
       "      <th></th>\n",
       "    </tr>\n",
       "  </thead>\n",
       "  <tbody>\n",
       "    <tr>\n",
       "      <th>0012J00002JbnjJQAR</th>\n",
       "      <td>-0.271960</td>\n",
       "      <td>-0.183776</td>\n",
       "      <td>-1.247219</td>\n",
       "      <td>-0.029382</td>\n",
       "      <td>NaN</td>\n",
       "      <td>1</td>\n",
       "    </tr>\n",
       "    <tr>\n",
       "      <th>0012J00002Lb7kwQAB</th>\n",
       "      <td>-0.006754</td>\n",
       "      <td>-0.104992</td>\n",
       "      <td>-0.069107</td>\n",
       "      <td>0.554258</td>\n",
       "      <td>NaN</td>\n",
       "      <td>1</td>\n",
       "    </tr>\n",
       "    <tr>\n",
       "      <th>0012J00002NHvozQAD</th>\n",
       "      <td>-0.274298</td>\n",
       "      <td>-0.147511</td>\n",
       "      <td>-1.247219</td>\n",
       "      <td>0.554258</td>\n",
       "      <td>NaN</td>\n",
       "      <td>1</td>\n",
       "    </tr>\n",
       "    <tr>\n",
       "      <th>0012J00002OVNeyQAH</th>\n",
       "      <td>0.005188</td>\n",
       "      <td>0.077863</td>\n",
       "      <td>1.698061</td>\n",
       "      <td>-0.029382</td>\n",
       "      <td>NaN</td>\n",
       "      <td>1</td>\n",
       "    </tr>\n",
       "    <tr>\n",
       "      <th>0012J00002OW3D2QAL</th>\n",
       "      <td>-0.276476</td>\n",
       "      <td>-0.144892</td>\n",
       "      <td>-0.069107</td>\n",
       "      <td>-0.613023</td>\n",
       "      <td>NaN</td>\n",
       "      <td>1</td>\n",
       "    </tr>\n",
       "    <tr>\n",
       "      <th>0012J00002OW3GOQA1</th>\n",
       "      <td>-0.262462</td>\n",
       "      <td>0.171616</td>\n",
       "      <td>1.698061</td>\n",
       "      <td>0.554258</td>\n",
       "      <td>NaN</td>\n",
       "      <td>1</td>\n",
       "    </tr>\n",
       "    <tr>\n",
       "      <th>0012J00002PMgyqQAD</th>\n",
       "      <td>-0.189735</td>\n",
       "      <td>-0.150131</td>\n",
       "      <td>-0.069107</td>\n",
       "      <td>0.554258</td>\n",
       "      <td>NaN</td>\n",
       "      <td>1</td>\n",
       "    </tr>\n",
       "    <tr>\n",
       "      <th>0012J00002QNpsHQAT</th>\n",
       "      <td>-0.288408</td>\n",
       "      <td>-0.146514</td>\n",
       "      <td>-1.247219</td>\n",
       "      <td>-0.029382</td>\n",
       "      <td>NaN</td>\n",
       "      <td>1</td>\n",
       "    </tr>\n",
       "    <tr>\n",
       "      <th>0012J00002Qj6ypQAB</th>\n",
       "      <td>0.155236</td>\n",
       "      <td>-0.111954</td>\n",
       "      <td>-0.658163</td>\n",
       "      <td>0.554258</td>\n",
       "      <td>NaN</td>\n",
       "      <td>1</td>\n",
       "    </tr>\n",
       "    <tr>\n",
       "      <th>0012J00002QjzJvQAJ</th>\n",
       "      <td>0.095368</td>\n",
       "      <td>0.049563</td>\n",
       "      <td>-1.247219</td>\n",
       "      <td>-0.613023</td>\n",
       "      <td>NaN</td>\n",
       "      <td>1</td>\n",
       "    </tr>\n",
       "  </tbody>\n",
       "</table>\n",
       "</div>"
      ],
      "text/plain": [
       "                              ARR  QuotaRelief   Revenue      2020  2021  \\\n",
       "UltimateParentAccountID                                                    \n",
       "0012J00002JbnjJQAR      -0.271960    -0.183776 -1.247219 -0.029382   NaN   \n",
       "0012J00002Lb7kwQAB      -0.006754    -0.104992 -0.069107  0.554258   NaN   \n",
       "0012J00002NHvozQAD      -0.274298    -0.147511 -1.247219  0.554258   NaN   \n",
       "0012J00002OVNeyQAH       0.005188     0.077863  1.698061 -0.029382   NaN   \n",
       "0012J00002OW3D2QAL      -0.276476    -0.144892 -0.069107 -0.613023   NaN   \n",
       "0012J00002OW3GOQA1      -0.262462     0.171616  1.698061  0.554258   NaN   \n",
       "0012J00002PMgyqQAD      -0.189735    -0.150131 -0.069107  0.554258   NaN   \n",
       "0012J00002QNpsHQAT      -0.288408    -0.146514 -1.247219 -0.029382   NaN   \n",
       "0012J00002Qj6ypQAB       0.155236    -0.111954 -0.658163  0.554258   NaN   \n",
       "0012J00002QjzJvQAJ       0.095368     0.049563 -1.247219 -0.613023   NaN   \n",
       "\n",
       "                         cluster_labels  \n",
       "UltimateParentAccountID                  \n",
       "0012J00002JbnjJQAR                    1  \n",
       "0012J00002Lb7kwQAB                    1  \n",
       "0012J00002NHvozQAD                    1  \n",
       "0012J00002OVNeyQAH                    1  \n",
       "0012J00002OW3D2QAL                    1  \n",
       "0012J00002OW3GOQA1                    1  \n",
       "0012J00002PMgyqQAD                    1  \n",
       "0012J00002QNpsHQAT                    1  \n",
       "0012J00002Qj6ypQAB                    1  \n",
       "0012J00002QjzJvQAJ                    1  "
      ]
     },
     "execution_count": 40,
     "metadata": {},
     "output_type": "execute_result"
    }
   ],
   "source": [
    "sns.scatterplot(x='ARR', y='QuotaRelief', hue='cluster_labels', data=nps2020)\n",
    "plt.show()\n",
    "nps2020.head(10)"
   ]
  },
  {
   "cell_type": "code",
   "execution_count": 48,
   "metadata": {},
   "outputs": [
    {
     "name": "stdout",
     "output_type": "stream",
     "text": [
      "                               ARR  QuotaRelief   Revenue      2020  2021  \\\n",
      "UltimateParentAccountID                                                     \n",
      "0015000000wLGDIAA4       25.597722     31.62549  1.698061 -1.780305   NaN   \n",
      "\n",
      "                         cluster_labels  \n",
      "UltimateParentAccountID                  \n",
      "0015000000wLGDIAA4                    3  \n"
     ]
    }
   ],
   "source": [
    "x = nps2020.loc[nps2020['cluster_labels'] == 3]\n",
    "print(x)"
   ]
  },
  {
   "cell_type": "code",
   "execution_count": 32,
   "metadata": {},
   "outputs": [
    {
     "data": {
      "image/png": "[encoded data removed]",
      "text/plain": [
       "<Figure size 432x288 with 1 Axes>"
      ]
     },
     "metadata": {
      "needs_background": "light"
     },
     "output_type": "display_data"
    }
   ],
   "source": [
    "sns.scatterplot(x='ARR', y='QuotaRelief', hue='cluster_labels', data=nps2021)\n",
    "plt.show()"
   ]
  },
  {
   "cell_type": "code",
   "execution_count": null,
   "metadata": {},
   "outputs": [],
   "source": [
    "#set font size of labels on matplotlib plots\n",
    "plt.rc('font', size=16)\n",
    "\n",
    "#set style of plots\n",
    "sns.set_style('white')\n",
    "\n",
    "#define a custom palette\n",
    "customPalette = ['#630C3A', '#39C8C6', '#D3500C', '#FFB139']\n",
    "sns.set_palette(customPalette)\n",
    "sns.palplot(customPalette)"
   ]
  }
 ],
 "metadata": {
  "kernelspec": {
   "display_name": "Python 3",
   "language": "python",
   "name": "python3"
  },
  "language_info": {
   "codemirror_mode": {
    "name": "ipython",
    "version": 3
   },
   "file_extension": ".py",
   "mimetype": "text/x-python",
   "name": "python",
   "nbconvert_exporter": "python",
   "pygments_lexer": "ipython3",
   "version": "3.8.5"
  }
 },
 "nbformat": 4,
 "nbformat_minor": 4
}
