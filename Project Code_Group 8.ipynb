{
 "cells": [
  {
   "cell_type": "markdown",
   "metadata": {},
   "source": [
    "# Pre-Processing"
   ]
  },
  {
   "cell_type": "code",
   "execution_count": 21,
   "metadata": {},
   "outputs": [],
   "source": [
    "%matplotlib inline\n",
    "# import necessary libraries and specify that graphs should be plotted inline. \n",
    "import matplotlib.pyplot as plt\n",
    "import numpy as np\n",
    "import pandas as pd\n",
    "import seaborn as sns\n",
    "from sklearn.model_selection import train_test_split\n",
    "import seaborn as sns\n",
    "import warnings\n",
    "\n",
    "warnings.filterwarnings(\"ignore\")"
   ]
  },
  {
   "cell_type": "code",
   "execution_count": 22,
   "metadata": {
    "scrolled": true
   },
   "outputs": [
    {
     "data": {
      "text/html": [
       "<div>\n",
       "<style scoped>\n",
       "    .dataframe tbody tr th:only-of-type {\n",
       "        vertical-align: middle;\n",
       "    }\n",
       "\n",
       "    .dataframe tbody tr th {\n",
       "        vertical-align: top;\n",
       "    }\n",
       "\n",
       "    .dataframe thead th {\n",
       "        text-align: right;\n",
       "    }\n",
       "</style>\n",
       "<table border=\"1\" class=\"dataframe\">\n",
       "  <thead>\n",
       "    <tr style=\"text-align: right;\">\n",
       "      <th></th>\n",
       "      <th>class</th>\n",
       "      <th>cap-diameter</th>\n",
       "      <th>cap-shape</th>\n",
       "      <th>cap-surface</th>\n",
       "      <th>cap-color</th>\n",
       "      <th>does-bruise-or-bleed</th>\n",
       "      <th>gill-attachment</th>\n",
       "      <th>gill-spacing</th>\n",
       "      <th>gill-color</th>\n",
       "      <th>stem-height</th>\n",
       "      <th>...</th>\n",
       "      <th>stem-root</th>\n",
       "      <th>stem-surface</th>\n",
       "      <th>stem-color</th>\n",
       "      <th>veil-type</th>\n",
       "      <th>veil-color</th>\n",
       "      <th>has-ring</th>\n",
       "      <th>ring-type</th>\n",
       "      <th>spore-print-color</th>\n",
       "      <th>habitat</th>\n",
       "      <th>season</th>\n",
       "    </tr>\n",
       "  </thead>\n",
       "  <tbody>\n",
       "    <tr>\n",
       "      <th>0</th>\n",
       "      <td>p</td>\n",
       "      <td>15.26</td>\n",
       "      <td>x</td>\n",
       "      <td>g</td>\n",
       "      <td>o</td>\n",
       "      <td>f</td>\n",
       "      <td>e</td>\n",
       "      <td>NaN</td>\n",
       "      <td>w</td>\n",
       "      <td>16.95</td>\n",
       "      <td>...</td>\n",
       "      <td>s</td>\n",
       "      <td>y</td>\n",
       "      <td>w</td>\n",
       "      <td>u</td>\n",
       "      <td>w</td>\n",
       "      <td>t</td>\n",
       "      <td>g</td>\n",
       "      <td>NaN</td>\n",
       "      <td>d</td>\n",
       "      <td>w</td>\n",
       "    </tr>\n",
       "    <tr>\n",
       "      <th>1</th>\n",
       "      <td>p</td>\n",
       "      <td>16.60</td>\n",
       "      <td>x</td>\n",
       "      <td>g</td>\n",
       "      <td>o</td>\n",
       "      <td>f</td>\n",
       "      <td>e</td>\n",
       "      <td>NaN</td>\n",
       "      <td>w</td>\n",
       "      <td>17.99</td>\n",
       "      <td>...</td>\n",
       "      <td>s</td>\n",
       "      <td>y</td>\n",
       "      <td>w</td>\n",
       "      <td>u</td>\n",
       "      <td>w</td>\n",
       "      <td>t</td>\n",
       "      <td>g</td>\n",
       "      <td>NaN</td>\n",
       "      <td>d</td>\n",
       "      <td>u</td>\n",
       "    </tr>\n",
       "    <tr>\n",
       "      <th>2</th>\n",
       "      <td>p</td>\n",
       "      <td>14.07</td>\n",
       "      <td>x</td>\n",
       "      <td>g</td>\n",
       "      <td>o</td>\n",
       "      <td>f</td>\n",
       "      <td>e</td>\n",
       "      <td>NaN</td>\n",
       "      <td>w</td>\n",
       "      <td>17.80</td>\n",
       "      <td>...</td>\n",
       "      <td>s</td>\n",
       "      <td>y</td>\n",
       "      <td>w</td>\n",
       "      <td>u</td>\n",
       "      <td>w</td>\n",
       "      <td>t</td>\n",
       "      <td>g</td>\n",
       "      <td>NaN</td>\n",
       "      <td>d</td>\n",
       "      <td>w</td>\n",
       "    </tr>\n",
       "    <tr>\n",
       "      <th>3</th>\n",
       "      <td>p</td>\n",
       "      <td>14.17</td>\n",
       "      <td>f</td>\n",
       "      <td>h</td>\n",
       "      <td>e</td>\n",
       "      <td>f</td>\n",
       "      <td>e</td>\n",
       "      <td>NaN</td>\n",
       "      <td>w</td>\n",
       "      <td>15.77</td>\n",
       "      <td>...</td>\n",
       "      <td>s</td>\n",
       "      <td>y</td>\n",
       "      <td>w</td>\n",
       "      <td>u</td>\n",
       "      <td>w</td>\n",
       "      <td>t</td>\n",
       "      <td>p</td>\n",
       "      <td>NaN</td>\n",
       "      <td>d</td>\n",
       "      <td>w</td>\n",
       "    </tr>\n",
       "    <tr>\n",
       "      <th>4</th>\n",
       "      <td>p</td>\n",
       "      <td>14.64</td>\n",
       "      <td>x</td>\n",
       "      <td>h</td>\n",
       "      <td>o</td>\n",
       "      <td>f</td>\n",
       "      <td>e</td>\n",
       "      <td>NaN</td>\n",
       "      <td>w</td>\n",
       "      <td>16.53</td>\n",
       "      <td>...</td>\n",
       "      <td>s</td>\n",
       "      <td>y</td>\n",
       "      <td>w</td>\n",
       "      <td>u</td>\n",
       "      <td>w</td>\n",
       "      <td>t</td>\n",
       "      <td>p</td>\n",
       "      <td>NaN</td>\n",
       "      <td>d</td>\n",
       "      <td>w</td>\n",
       "    </tr>\n",
       "  </tbody>\n",
       "</table>\n",
       "<p>5 rows × 21 columns</p>\n",
       "</div>"
      ],
      "text/plain": [
       "  class  cap-diameter cap-shape cap-surface cap-color does-bruise-or-bleed  \\\n",
       "0     p         15.26         x           g         o                    f   \n",
       "1     p         16.60         x           g         o                    f   \n",
       "2     p         14.07         x           g         o                    f   \n",
       "3     p         14.17         f           h         e                    f   \n",
       "4     p         14.64         x           h         o                    f   \n",
       "\n",
       "  gill-attachment gill-spacing gill-color  stem-height  ...  stem-root  \\\n",
       "0               e          NaN          w        16.95  ...          s   \n",
       "1               e          NaN          w        17.99  ...          s   \n",
       "2               e          NaN          w        17.80  ...          s   \n",
       "3               e          NaN          w        15.77  ...          s   \n",
       "4               e          NaN          w        16.53  ...          s   \n",
       "\n",
       "  stem-surface stem-color veil-type veil-color has-ring ring-type  \\\n",
       "0            y          w         u          w        t         g   \n",
       "1            y          w         u          w        t         g   \n",
       "2            y          w         u          w        t         g   \n",
       "3            y          w         u          w        t         p   \n",
       "4            y          w         u          w        t         p   \n",
       "\n",
       "  spore-print-color habitat season  \n",
       "0               NaN       d      w  \n",
       "1               NaN       d      u  \n",
       "2               NaN       d      w  \n",
       "3               NaN       d      w  \n",
       "4               NaN       d      w  \n",
       "\n",
       "[5 rows x 21 columns]"
      ]
     },
     "execution_count": 22,
     "metadata": {},
     "output_type": "execute_result"
    }
   ],
   "source": [
    "read_data = pd.read_csv('mushroom_data.csv')\n",
    "#read_data = pd.read_csv('secondary_data.csv', ';')\n",
    "read_data.head()"
   ]
  },
  {
   "cell_type": "code",
   "execution_count": 23,
   "metadata": {},
   "outputs": [
    {
     "name": "stdout",
     "output_type": "stream",
     "text": [
      "Index(['class', 'cap-diameter', 'cap-shape', 'cap-surface', 'cap-color',\n",
      "       'does-bruise-or-bleed', 'gill-attachment', 'gill-spacing', 'gill-color',\n",
      "       'stem-height', 'stem-width', 'stem-root', 'stem-surface', 'stem-color',\n",
      "       'veil-type', 'veil-color', 'has-ring', 'ring-type', 'spore-print-color',\n",
      "       'habitat', 'season'],\n",
      "      dtype='object') \n",
      "\n",
      "(61069, 21) \n",
      "\n",
      "       cap-diameter   stem-height    stem-width\n",
      "count  61069.000000  61069.000000  61069.000000\n",
      "mean       6.733854      6.581538     12.149410\n",
      "std        5.264845      3.370017     10.035955\n",
      "min        0.380000      0.000000      0.000000\n",
      "25%        3.480000      4.640000      5.210000\n",
      "50%        5.860000      5.950000     10.190000\n",
      "75%        8.540000      7.740000     16.570000\n",
      "max       62.340000     33.920000    103.910000 \n",
      "\n"
     ]
    }
   ],
   "source": [
    "# Check elements in data set\n",
    "print(read_data.keys(),\"\\n\")\n",
    "print(read_data.shape,\"\\n\")\n",
    "print(read_data.describe(),\"\\n\")"
   ]
  },
  {
   "cell_type": "code",
   "execution_count": 24,
   "metadata": {},
   "outputs": [
    {
     "name": "stdout",
     "output_type": "stream",
     "text": [
      "class                       0\n",
      "cap-diameter                0\n",
      "cap-shape                   0\n",
      "cap-surface             14120\n",
      "cap-color                   0\n",
      "does-bruise-or-bleed        0\n",
      "gill-attachment          9884\n",
      "gill-spacing            25063\n",
      "gill-color                  0\n",
      "stem-height                 0\n",
      "stem-width                  0\n",
      "stem-root               51538\n",
      "stem-surface            38124\n",
      "stem-color                  0\n",
      "veil-type               57892\n",
      "veil-color              53656\n",
      "has-ring                    0\n",
      "ring-type                2471\n",
      "spore-print-color       54715\n",
      "habitat                     0\n",
      "season                      0\n",
      "dtype: int64 \n",
      "\n",
      "class                   0.000000\n",
      "cap-diameter            0.000000\n",
      "cap-shape               0.000000\n",
      "cap-surface             0.231214\n",
      "cap-color               0.000000\n",
      "does-bruise-or-bleed    0.000000\n",
      "gill-attachment         0.161850\n",
      "gill-spacing            0.410405\n",
      "gill-color              0.000000\n",
      "stem-height             0.000000\n",
      "stem-width              0.000000\n",
      "stem-root               0.843931\n",
      "stem-surface            0.624277\n",
      "stem-color              0.000000\n",
      "veil-type               0.947977\n",
      "veil-color              0.878613\n",
      "has-ring                0.000000\n",
      "ring-type               0.040462\n",
      "spore-print-color       0.895954\n",
      "habitat                 0.000000\n",
      "season                  0.000000\n",
      "dtype: float64\n"
     ]
    }
   ],
   "source": [
    "#Check missing values in each column\n",
    "print(read_data.isna().sum(),\"\\n\")\n",
    "print(read_data.isnull().sum()/read_data.shape[0])"
   ]
  },
  {
   "cell_type": "markdown",
   "metadata": {},
   "source": [
    "### Drop Variables With 10% or More Missing Values\n",
    "\n",
    "#### Will drop cap-surface (25,063 missing values, 41% missing)\n",
    "#### Will drop gill-spacing (14,120 missing values, 23% missing)\n",
    "#### Will drop stem-root (51,538 missing values, 84% missing)\n",
    "#### Will drop stem-surface (38,124 missing values, 62% missing)\n",
    "#### Will drop veil-type (57,892 missing values, 95% missing)\n",
    "#### Will drop veil-color (53,656 missing values, 87% missing)\n",
    "#### Will drop spore-print-color (51,538 missing values, 89% missing)"
   ]
  },
  {
   "cell_type": "code",
   "execution_count": 25,
   "metadata": {},
   "outputs": [],
   "source": [
    "#Drop columns with too many missing values that is missing values >10,000\n",
    "read_data_cleaned = read_data.drop(columns=['gill-spacing','stem-root','stem-surface','veil-type','veil-color','spore-print-color','cap-surface'])"
   ]
  },
  {
   "cell_type": "markdown",
   "metadata": {},
   "source": [
    "### Drop records with missing values"
   ]
  },
  {
   "cell_type": "code",
   "execution_count": 26,
   "metadata": {},
   "outputs": [],
   "source": [
    "#For remaining data drop rows with missing values\n",
    "read_data_cleaned=read_data_cleaned.dropna()\n",
    "\n",
    "#Export cleaned dataframe for visualization\n",
    "read_data_cleaned.to_excel('mushroom_data_cleaned.xlsx')"
   ]
  },
  {
   "cell_type": "code",
   "execution_count": 27,
   "metadata": {},
   "outputs": [
    {
     "name": "stdout",
     "output_type": "stream",
     "text": [
      "Index(['class', 'cap-diameter', 'cap-shape', 'cap-color',\n",
      "       'does-bruise-or-bleed', 'gill-attachment', 'gill-color', 'stem-height',\n",
      "       'stem-width', 'stem-color', 'has-ring', 'ring-type', 'habitat',\n",
      "       'season'],\n",
      "      dtype='object')\n",
      "(49067, 14)\n"
     ]
    }
   ],
   "source": [
    "# Check elements in data set\n",
    "print(read_data_cleaned.keys())\n",
    "print(read_data_cleaned.shape)"
   ]
  },
  {
   "cell_type": "code",
   "execution_count": 28,
   "metadata": {},
   "outputs": [
    {
     "name": "stdout",
     "output_type": "stream",
     "text": [
      "p    26828\n",
      "e    22239\n",
      "Name: class, dtype: int64 \n",
      "\n",
      "x    21839\n",
      "f    11508\n",
      "s     6996\n",
      "b     3096\n",
      "o     2405\n",
      "p     1921\n",
      "c     1302\n",
      "Name: cap-shape, dtype: int64 \n",
      "\n",
      "f    39536\n",
      "t     9531\n",
      "Name: does-bruise-or-bleed, dtype: int64 \n",
      "\n",
      "a    12000\n",
      "d     9886\n",
      "x     7060\n",
      "s     5648\n",
      "p     5648\n",
      "e     5295\n",
      "f     3530\n",
      "Name: gill-attachment, dtype: int64 \n",
      "\n",
      "w    14890\n",
      "y     8029\n",
      "n     7275\n",
      "p     5719\n",
      "f     3530\n",
      "g     2982\n",
      "o     2738\n",
      "r      977\n",
      "k      881\n",
      "u      732\n",
      "e      713\n",
      "b      601\n",
      "Name: gill-color, dtype: int64 \n",
      "\n",
      "w    17299\n",
      "n    14565\n",
      "y     5694\n",
      "g     2626\n",
      "o     2187\n",
      "e     1697\n",
      "u     1490\n",
      "p     1025\n",
      "k      837\n",
      "f      706\n",
      "r      542\n",
      "l      226\n",
      "b      173\n",
      "Name: stem-color, dtype: int64 \n",
      "\n",
      "f    39536\n",
      "t     9531\n",
      "Name: has-ring, dtype: int64 \n",
      "\n",
      "f    41301\n",
      "e     2082\n",
      "z     1412\n",
      "r     1399\n",
      "p     1077\n",
      "l     1074\n",
      "g      722\n",
      "Name: ring-type, dtype: int64 \n",
      "\n",
      "d    34963\n",
      "g     5678\n",
      "l     3168\n",
      "m     2429\n",
      "h     2001\n",
      "p      360\n",
      "w      353\n",
      "u      115\n",
      "Name: habitat, dtype: int64 \n",
      "\n",
      "a    24276\n",
      "u    18789\n",
      "w     4057\n",
      "s     1945\n",
      "Name: season, dtype: int64 \n",
      "\n"
     ]
    }
   ],
   "source": [
    "# calculate counts of values for a column in a dataframe:\n",
    "print(read_data_cleaned['class'].value_counts(),\"\\n\")\n",
    "print(read_data_cleaned['cap-shape'].value_counts(),\"\\n\")\n",
    "#print(read_data_cleaned['cap-surface'].value_counts(),\"\\n\")\n",
    "#print(read_data_cleaned['cap-color'].value_counts(),\"\\n\")\n",
    "print(read_data_cleaned['does-bruise-or-bleed'].value_counts(),\"\\n\")\n",
    "print(read_data_cleaned['gill-attachment'].value_counts(),\"\\n\")\n",
    "#print(read_data_cleaned['gill-spacing'].value_counts(),\"\\n\")\n",
    "print(read_data_cleaned['gill-color'].value_counts(),\"\\n\")\n",
    "#print(read_data_cleaned['stem-root'].value_counts(),\"\\n\")\n",
    "#print(read_data_cleaned['stem-surface'].value_counts(),\"\\n\")\n",
    "print(read_data_cleaned['stem-color'].value_counts(),\"\\n\")\n",
    "#print(read_data_cleaned['veil-type'].value_counts(),\"\\n\")\n",
    "#print(read_data_cleaned['veil-color'].value_counts(),\"\\n\")\n",
    "print(read_data_cleaned['has-ring'].value_counts(),\"\\n\")\n",
    "print(read_data_cleaned['ring-type'].value_counts(),\"\\n\")\n",
    "#print(read_data_cleaned['spore-print-color'].value_counts(),\"\\n\")\n",
    "print(read_data_cleaned['habitat'].value_counts(),\"\\n\")\n",
    "print(read_data_cleaned['season'].value_counts(),\"\\n\")"
   ]
  },
  {
   "cell_type": "code",
   "execution_count": 29,
   "metadata": {},
   "outputs": [
    {
     "data": {
      "text/plain": [
       "<seaborn.axisgrid.FacetGrid at 0x170c512eac0>"
      ]
     },
     "execution_count": 29,
     "metadata": {},
     "output_type": "execute_result"
    },
    {
     "data": {
      "image/png": "[encoded data removed]",
      "text/plain": [
       "<Figure size 360x360 with 1 Axes>"
      ]
     },
     "metadata": {
      "needs_background": "light"
     },
     "output_type": "display_data"
    }
   ],
   "source": [
    "sns.catplot(x=\"cap-diameter\", y=\"class\", data=read_data_cleaned)"
   ]
  },
  {
   "cell_type": "code",
   "execution_count": 30,
   "metadata": {},
   "outputs": [
    {
     "data": {
      "text/plain": [
       "<seaborn.axisgrid.FacetGrid at 0x170c0131e80>"
      ]
     },
     "execution_count": 30,
     "metadata": {},
     "output_type": "execute_result"
    },
    {
     "data": {
      "image/png": "[encoded data removed]",
      "text/plain": [
       "<Figure size 360x360 with 1 Axes>"
      ]
     },
     "metadata": {
      "needs_background": "light"
     },
     "output_type": "display_data"
    }
   ],
   "source": [
    "sns.catplot(x=\"stem-height\", y=\"class\", data=read_data_cleaned)"
   ]
  },
  {
   "cell_type": "code",
   "execution_count": 31,
   "metadata": {},
   "outputs": [
    {
     "data": {
      "text/plain": [
       "<seaborn.axisgrid.FacetGrid at 0x170c897e340>"
      ]
     },
     "execution_count": 31,
     "metadata": {},
     "output_type": "execute_result"
    },
    {
     "data": {
      "image/png": "[encoded data removed]",
      "text/plain": [
       "<Figure size 360x360 with 1 Axes>"
      ]
     },
     "metadata": {
      "needs_background": "light"
     },
     "output_type": "display_data"
    }
   ],
   "source": [
    "sns.catplot(x=\"stem-width\", y=\"class\", data=read_data_cleaned)"
   ]
  },
  {
   "cell_type": "code",
   "execution_count": 32,
   "metadata": {},
   "outputs": [
    {
     "data": {
      "text/plain": [
       "<AxesSubplot:>"
      ]
     },
     "execution_count": 32,
     "metadata": {},
     "output_type": "execute_result"
    },
    {
     "data": {
      "image/png": "[encoded data removed]",
      "text/plain": [
       "<Figure size 432x288 with 1 Axes>"
      ]
     },
     "metadata": {
      "needs_background": "light"
     },
     "output_type": "display_data"
    }
   ],
   "source": [
    "pd.value_counts(read_data_cleaned['cap-shape']).plot.bar()\n",
    "#pd.value_counts(read_data_cleaned['cap-surface']).plot.bar()\n",
    "#pd.value_counts(read_data_cleaned['cap-color']).plot.bar()\n",
    "#pd.value_counts(read_data_cleaned['does-bruise-or-bleed']).plot.bar()\n",
    "#pd.value_counts(read_data_cleaned['gill-attachment']).plot.bar()\n",
    "#pd.value_counts(read_data_cleaned['gill-spacing']).plot.bar()\n",
    "#pd.value_counts(read_data_cleaned['gill-color']).plot.bar()\n",
    "#pd.value_counts(read_data_cleaned['stem-root']).plot.bar()\n",
    "#pd.value_counts(read_data_cleaned['stem-surface']).plot.bar()\n",
    "#pd.value_counts(read_data_cleaned['stem-color']).plot.bar()\n",
    "#pd.value_counts(read_data_cleaned['veil-type']).plot.bar()\n",
    "#pd.value_counts(read_data_cleaned['has-ring']).plot.bar()\n",
    "#pd.value_counts(read_data_cleaned['ring-type']).plot.bar()\n",
    "#pd.value_counts(read_data_cleaned['spore-print-color']).plot.bar()\n",
    "#pd.value_counts(read_data_cleaned['habitat']).plot.bar()\n",
    "#pd.value_counts(read_data_cleaned['season']).plot.bar(read_data_cleaned['class'])"
   ]
  },
  {
   "cell_type": "code",
   "execution_count": 33,
   "metadata": {},
   "outputs": [
    {
     "data": {
      "text/plain": [
       "<AxesSubplot:xlabel='cap-shape', ylabel='count'>"
      ]
     },
     "execution_count": 33,
     "metadata": {},
     "output_type": "execute_result"
    },
    {
     "data": {
      "image/png": "[encoded data removed]",
      "text/plain": [
       "<Figure size 432x288 with 1 Axes>"
      ]
     },
     "metadata": {
      "needs_background": "light"
     },
     "output_type": "display_data"
    }
   ],
   "source": [
    "sns.countplot(x=read_data_cleaned['cap-shape'], hue=read_data_cleaned['class'], data=read_data_cleaned)\n",
    "#sns.countplot(x=read_data_cleaned['cap-surface'], hue=read_data_cleaned['class'], data=read_data_cleaned)\n",
    "#sns.countplot(x=read_data_cleaned['cap-color'], hue=read_data_cleaned['class'], data=read_data_cleaned)\n",
    "#sns.countplot(x=read_data_cleaned['does-bruise-or-bleed'], hue=read_data_cleaned['class'], data=read_data_cleaned)\n",
    "#sns.countplot(x=read_data_cleaned['gill-attachment'], hue=read_data_cleaned['class'], data=read_data_cleaned)\n",
    "#sns.countplot(x=read_data_cleaned['gill-spacing'], hue=read_data_cleaned['class'], data=read_data_cleaned)\n",
    "#sns.countplot(x=read_data_cleaned['gill-color'], hue=read_data_cleaned['class'], data=read_data_cleaned)\n",
    "#sns.countplot(x=read_data_cleaned['stem-root'], hue=read_data_cleaned['class'], data=read_data_cleaned) #shows differences in poisonous/edible\n",
    "#sns.countplot(x=read_data_cleaned['stem-surface'], hue=read_data_cleaned['class'], data=read_data_cleaned)\n",
    "#sns.countplot(x=read_data_cleaned['stem-color'], hue=read_data_cleaned['class'], data=read_data_cleaned)\n",
    "#sns.countplot(x=read_data_cleaned['veil-type'], hue=read_data_cleaned['class'], data=read_data_cleaned)\n",
    "#sns.countplot(x=read_data_cleaned['has-ring'], hue=read_data_cleaned['class'], data=read_data_cleaned)\n",
    "#sns.countplot(x=read_data_cleaned['ring-type'], hue=read_data_cleaned['class'], data=read_data_cleaned)\n",
    "#sns.countplot(x=read_data_cleaned['spore-print-color'], hue=read_data_cleaned['class'], data=read_data_cleaned) #shows differences in poisonous/edible\n",
    "#sns.countplot(x=read_data_cleaned['habitat'], hue=read_data_cleaned['class'], data=read_data_cleaned)\n",
    "#sns.countplot(x=read_data_cleaned['season'], hue=read_data_cleaned['class'], data=read_data_cleaned)"
   ]
  },
  {
   "cell_type": "code",
   "execution_count": 34,
   "metadata": {},
   "outputs": [
    {
     "data": {
      "image/png": "[encoded data removed]",
      "text/plain": [
       "<Figure size 1152x432 with 2 Axes>"
      ]
     },
     "metadata": {
      "needs_background": "light"
     },
     "output_type": "display_data"
    }
   ],
   "source": [
    "#Heatmap to check corelation between continous variables\n",
    "plt.figure(figsize=(16, 6))\n",
    "heatmap = sns.heatmap(read_data_cleaned.corr(), vmin=-1, vmax=1, annot=True)\n",
    "heatmap.set_title('Correlation Heatmap', fontdict={'fontsize':12}, pad=12);"
   ]
  },
  {
   "cell_type": "code",
   "execution_count": 35,
   "metadata": {},
   "outputs": [],
   "source": [
    "#convert output from e (edible) and p (poisonous) to 0 and 1 respectively. (for standarization) \n",
    "class_binary=[]\n",
    "for i in read_data_cleaned['class']:\n",
    "    if i=='p':\n",
    "        class_binary.append(1)\n",
    "    else:\n",
    "        class_binary.append(0)\n",
    "    \n",
    "output = class_binary\n",
    "variables = read_data_cleaned.drop(columns= 'class')"
   ]
  },
  {
   "cell_type": "code",
   "execution_count": 36,
   "metadata": {},
   "outputs": [
    {
     "data": {
      "text/html": [
       "<div>\n",
       "<style scoped>\n",
       "    .dataframe tbody tr th:only-of-type {\n",
       "        vertical-align: middle;\n",
       "    }\n",
       "\n",
       "    .dataframe tbody tr th {\n",
       "        vertical-align: top;\n",
       "    }\n",
       "\n",
       "    .dataframe thead th {\n",
       "        text-align: right;\n",
       "    }\n",
       "</style>\n",
       "<table border=\"1\" class=\"dataframe\">\n",
       "  <thead>\n",
       "    <tr style=\"text-align: right;\">\n",
       "      <th></th>\n",
       "      <th>cap-diameter</th>\n",
       "      <th>stem-height</th>\n",
       "      <th>stem-width</th>\n",
       "    </tr>\n",
       "  </thead>\n",
       "  <tbody>\n",
       "    <tr>\n",
       "      <th>0</th>\n",
       "      <td>0.239418</td>\n",
       "      <td>0.608618</td>\n",
       "      <td>0.164469</td>\n",
       "    </tr>\n",
       "    <tr>\n",
       "      <th>1</th>\n",
       "      <td>0.261066</td>\n",
       "      <td>0.645961</td>\n",
       "      <td>0.175055</td>\n",
       "    </tr>\n",
       "    <tr>\n",
       "      <th>2</th>\n",
       "      <td>0.220194</td>\n",
       "      <td>0.639138</td>\n",
       "      <td>0.170725</td>\n",
       "    </tr>\n",
       "    <tr>\n",
       "      <th>3</th>\n",
       "      <td>0.221809</td>\n",
       "      <td>0.566248</td>\n",
       "      <td>0.153787</td>\n",
       "    </tr>\n",
       "    <tr>\n",
       "      <th>4</th>\n",
       "      <td>0.229402</td>\n",
       "      <td>0.593537</td>\n",
       "      <td>0.165528</td>\n",
       "    </tr>\n",
       "  </tbody>\n",
       "</table>\n",
       "</div>"
      ],
      "text/plain": [
       "   cap-diameter  stem-height  stem-width\n",
       "0      0.239418     0.608618    0.164469\n",
       "1      0.261066     0.645961    0.175055\n",
       "2      0.220194     0.639138    0.170725\n",
       "3      0.221809     0.566248    0.153787\n",
       "4      0.229402     0.593537    0.165528"
      ]
     },
     "execution_count": 36,
     "metadata": {},
     "output_type": "execute_result"
    }
   ],
   "source": [
    "### code for scaling / normalizing data\n",
    "from sklearn import preprocessing\n",
    "import pandas as pd\n",
    "\n",
    "input_data_continous = variables.drop(columns=['cap-shape', 'cap-color',\n",
    "       'does-bruise-or-bleed', 'gill-attachment', 'gill-color',\n",
    "       'stem-color', 'has-ring', 'ring-type','habitat', 'season'])\n",
    "\n",
    "scaler = preprocessing.MinMaxScaler()\n",
    "names = input_data_continous.columns\n",
    "d = scaler.fit_transform(input_data_continous)\n",
    "scaled_input_data_continous = pd.DataFrame(d, columns=names)\n",
    "scaled_input_data_continous.head()"
   ]
  },
  {
   "cell_type": "markdown",
   "metadata": {},
   "source": [
    "## PCA"
   ]
  },
  {
   "cell_type": "code",
   "execution_count": 37,
   "metadata": {},
   "outputs": [
    {
     "name": "stdout",
     "output_type": "stream",
     "text": [
      "Before transfer, the dimension is: 3 \n",
      " After transfer, the dimension is: 2\n"
     ]
    }
   ],
   "source": [
    "from sklearn.decomposition import PCA\n",
    "\n",
    "#Apply PCA to continous data and convert 3 continous columns to 2 principal components\n",
    "#input_data_continous = variables.drop(columns=['cap-shape','cap-color','does-bruise-or-bleed','gill-attachment','gill-color','stem-color','has-ring','ring-type','habitat','season'])\n",
    "pca = PCA(n_components = 2, whiten = True, random_state=0)\n",
    "X2D = pca.fit_transform(input_data_continous)\n",
    "\n",
    "print(\"Before transfer, the dimension is:\", input_data_continous.shape[1], \"\\n\",\n",
    "      \"After transfer, the dimension is:\", X2D.shape[1])"
   ]
  },
  {
   "cell_type": "code",
   "execution_count": 38,
   "metadata": {},
   "outputs": [
    {
     "name": "stdout",
     "output_type": "stream",
     "text": [
      "       index  PCA_variable_1  PCA_variable_2  index cap-shape cap-color  \\\n",
      "0          0        0.745299        1.761183      0         x         o   \n",
      "1          1        0.890347        1.994138      1         x         o   \n",
      "2          2        0.769182        1.422449      2         x         o   \n",
      "3          3        0.605921        1.587356      3         f         e   \n",
      "4          4        0.728933        1.592257      4         x         o   \n",
      "...      ...             ...             ...    ...       ...       ...   \n",
      "49062  49062       -0.748237       -0.793201  61064         s         y   \n",
      "49063  49063       -0.818117       -0.705357  61065         f         y   \n",
      "49064  49064       -0.734019       -0.787710  61066         s         y   \n",
      "49065  49065       -0.813737       -0.706840  61067         f         y   \n",
      "49066  49066       -0.818925       -0.730366  61068         s         y   \n",
      "\n",
      "      does-bruise-or-bleed gill-attachment gill-color stem-color has-ring  \\\n",
      "0                        f               e          w          w        t   \n",
      "1                        f               e          w          w        t   \n",
      "2                        f               e          w          w        t   \n",
      "3                        f               e          w          w        t   \n",
      "4                        f               e          w          w        t   \n",
      "...                    ...             ...        ...        ...      ...   \n",
      "49062                    f               f          f          y        f   \n",
      "49063                    f               f          f          y        f   \n",
      "49064                    f               f          f          y        f   \n",
      "49065                    f               f          f          y        f   \n",
      "49066                    f               f          f          y        f   \n",
      "\n",
      "      ring-type habitat season  \n",
      "0             g       d      w  \n",
      "1             g       d      u  \n",
      "2             g       d      w  \n",
      "3             p       d      w  \n",
      "4             p       d      w  \n",
      "...         ...     ...    ...  \n",
      "49062         f       d      a  \n",
      "49063         f       d      a  \n",
      "49064         f       d      u  \n",
      "49065         f       d      u  \n",
      "49066         f       d      u  \n",
      "\n",
      "[49067 rows x 14 columns]\n",
      "Index(['index', 'PCA_variable_1', 'PCA_variable_2', 'index', 'cap-shape',\n",
      "       'cap-color', 'does-bruise-or-bleed', 'gill-attachment', 'gill-color',\n",
      "       'stem-color', 'has-ring', 'ring-type', 'habitat', 'season'],\n",
      "      dtype='object')\n"
     ]
    }
   ],
   "source": [
    "#Concat principal components with categorical data\n",
    "continous_input = pd.DataFrame(X2D)\n",
    "continous_input.columns= ['PCA_variable_1','PCA_variable_2']\n",
    "continous_input = continous_input.reset_index()\n",
    "categorical_input = variables.drop(columns=['stem-width','stem-height','cap-diameter'])\n",
    "categorical_input = categorical_input.reset_index()\n",
    "transformed_input = pd.concat([continous_input, categorical_input], axis = 1)\n",
    "print(transformed_input)\n",
    "print(transformed_input.keys())"
   ]
  },
  {
   "cell_type": "code",
   "execution_count": 39,
   "metadata": {},
   "outputs": [
    {
     "name": "stdout",
     "output_type": "stream",
     "text": [
      "       PCA_variable_1  PCA_variable_2 cap-shape cap-color  \\\n",
      "0            0.745299        1.761183         x         o   \n",
      "1            0.890347        1.994138         x         o   \n",
      "2            0.769182        1.422449         x         o   \n",
      "3            0.605921        1.587356         f         e   \n",
      "4            0.728933        1.592257         x         o   \n",
      "...               ...             ...       ...       ...   \n",
      "49062       -0.748237       -0.793201         s         y   \n",
      "49063       -0.818117       -0.705357         f         y   \n",
      "49064       -0.734019       -0.787710         s         y   \n",
      "49065       -0.813737       -0.706840         f         y   \n",
      "49066       -0.818925       -0.730366         s         y   \n",
      "\n",
      "      does-bruise-or-bleed gill-attachment gill-color stem-color has-ring  \\\n",
      "0                        f               e          w          w        t   \n",
      "1                        f               e          w          w        t   \n",
      "2                        f               e          w          w        t   \n",
      "3                        f               e          w          w        t   \n",
      "4                        f               e          w          w        t   \n",
      "...                    ...             ...        ...        ...      ...   \n",
      "49062                    f               f          f          y        f   \n",
      "49063                    f               f          f          y        f   \n",
      "49064                    f               f          f          y        f   \n",
      "49065                    f               f          f          y        f   \n",
      "49066                    f               f          f          y        f   \n",
      "\n",
      "      ring-type habitat season  \n",
      "0             g       d      w  \n",
      "1             g       d      u  \n",
      "2             g       d      w  \n",
      "3             p       d      w  \n",
      "4             p       d      w  \n",
      "...         ...     ...    ...  \n",
      "49062         f       d      a  \n",
      "49063         f       d      a  \n",
      "49064         f       d      u  \n",
      "49065         f       d      u  \n",
      "49066         f       d      u  \n",
      "\n",
      "[49067 rows x 12 columns]\n",
      "Index(['PCA_variable_1', 'PCA_variable_2', 'cap-shape', 'cap-color',\n",
      "       'does-bruise-or-bleed', 'gill-attachment', 'gill-color', 'stem-color',\n",
      "       'has-ring', 'ring-type', 'habitat', 'season'],\n",
      "      dtype='object')\n"
     ]
    }
   ],
   "source": [
    "transformed_input = transformed_input.drop(columns=['index', 'index'])\n",
    "print(transformed_input)\n",
    "print(transformed_input.keys())"
   ]
  },
  {
   "cell_type": "code",
   "execution_count": 40,
   "metadata": {},
   "outputs": [
    {
     "data": {
      "text/html": [
       "<div>\n",
       "<style scoped>\n",
       "    .dataframe tbody tr th:only-of-type {\n",
       "        vertical-align: middle;\n",
       "    }\n",
       "\n",
       "    .dataframe tbody tr th {\n",
       "        vertical-align: top;\n",
       "    }\n",
       "\n",
       "    .dataframe thead th {\n",
       "        text-align: right;\n",
       "    }\n",
       "</style>\n",
       "<table border=\"1\" class=\"dataframe\">\n",
       "  <thead>\n",
       "    <tr style=\"text-align: right;\">\n",
       "      <th></th>\n",
       "      <th>PCA_variable_1</th>\n",
       "      <th>PCA_variable_2</th>\n",
       "      <th>cap-shape_b</th>\n",
       "      <th>cap-shape_c</th>\n",
       "      <th>cap-shape_f</th>\n",
       "      <th>cap-shape_o</th>\n",
       "      <th>cap-shape_p</th>\n",
       "      <th>cap-shape_s</th>\n",
       "      <th>cap-shape_x</th>\n",
       "      <th>cap-color_b</th>\n",
       "      <th>...</th>\n",
       "      <th>habitat_h</th>\n",
       "      <th>habitat_l</th>\n",
       "      <th>habitat_m</th>\n",
       "      <th>habitat_p</th>\n",
       "      <th>habitat_u</th>\n",
       "      <th>habitat_w</th>\n",
       "      <th>season_a</th>\n",
       "      <th>season_s</th>\n",
       "      <th>season_u</th>\n",
       "      <th>season_w</th>\n",
       "    </tr>\n",
       "  </thead>\n",
       "  <tbody>\n",
       "    <tr>\n",
       "      <th>29797</th>\n",
       "      <td>-1.013792</td>\n",
       "      <td>-0.210430</td>\n",
       "      <td>0</td>\n",
       "      <td>0</td>\n",
       "      <td>1</td>\n",
       "      <td>0</td>\n",
       "      <td>0</td>\n",
       "      <td>0</td>\n",
       "      <td>0</td>\n",
       "      <td>0</td>\n",
       "      <td>...</td>\n",
       "      <td>0</td>\n",
       "      <td>0</td>\n",
       "      <td>0</td>\n",
       "      <td>0</td>\n",
       "      <td>0</td>\n",
       "      <td>0</td>\n",
       "      <td>0</td>\n",
       "      <td>0</td>\n",
       "      <td>1</td>\n",
       "      <td>0</td>\n",
       "    </tr>\n",
       "    <tr>\n",
       "      <th>6934</th>\n",
       "      <td>-0.247887</td>\n",
       "      <td>0.083989</td>\n",
       "      <td>0</td>\n",
       "      <td>0</td>\n",
       "      <td>0</td>\n",
       "      <td>0</td>\n",
       "      <td>0</td>\n",
       "      <td>0</td>\n",
       "      <td>1</td>\n",
       "      <td>0</td>\n",
       "      <td>...</td>\n",
       "      <td>0</td>\n",
       "      <td>1</td>\n",
       "      <td>0</td>\n",
       "      <td>0</td>\n",
       "      <td>0</td>\n",
       "      <td>0</td>\n",
       "      <td>1</td>\n",
       "      <td>0</td>\n",
       "      <td>0</td>\n",
       "      <td>0</td>\n",
       "    </tr>\n",
       "    <tr>\n",
       "      <th>46994</th>\n",
       "      <td>-0.619465</td>\n",
       "      <td>0.124173</td>\n",
       "      <td>0</td>\n",
       "      <td>0</td>\n",
       "      <td>1</td>\n",
       "      <td>0</td>\n",
       "      <td>0</td>\n",
       "      <td>0</td>\n",
       "      <td>0</td>\n",
       "      <td>0</td>\n",
       "      <td>...</td>\n",
       "      <td>0</td>\n",
       "      <td>0</td>\n",
       "      <td>0</td>\n",
       "      <td>0</td>\n",
       "      <td>0</td>\n",
       "      <td>0</td>\n",
       "      <td>0</td>\n",
       "      <td>0</td>\n",
       "      <td>1</td>\n",
       "      <td>0</td>\n",
       "    </tr>\n",
       "    <tr>\n",
       "      <th>7289</th>\n",
       "      <td>0.123042</td>\n",
       "      <td>0.955800</td>\n",
       "      <td>0</td>\n",
       "      <td>0</td>\n",
       "      <td>1</td>\n",
       "      <td>0</td>\n",
       "      <td>0</td>\n",
       "      <td>0</td>\n",
       "      <td>0</td>\n",
       "      <td>0</td>\n",
       "      <td>...</td>\n",
       "      <td>1</td>\n",
       "      <td>0</td>\n",
       "      <td>0</td>\n",
       "      <td>0</td>\n",
       "      <td>0</td>\n",
       "      <td>0</td>\n",
       "      <td>1</td>\n",
       "      <td>0</td>\n",
       "      <td>0</td>\n",
       "      <td>0</td>\n",
       "    </tr>\n",
       "    <tr>\n",
       "      <th>27942</th>\n",
       "      <td>-0.258974</td>\n",
       "      <td>0.835133</td>\n",
       "      <td>0</td>\n",
       "      <td>0</td>\n",
       "      <td>0</td>\n",
       "      <td>0</td>\n",
       "      <td>0</td>\n",
       "      <td>0</td>\n",
       "      <td>1</td>\n",
       "      <td>0</td>\n",
       "      <td>...</td>\n",
       "      <td>0</td>\n",
       "      <td>0</td>\n",
       "      <td>0</td>\n",
       "      <td>0</td>\n",
       "      <td>0</td>\n",
       "      <td>0</td>\n",
       "      <td>1</td>\n",
       "      <td>0</td>\n",
       "      <td>0</td>\n",
       "      <td>0</td>\n",
       "    </tr>\n",
       "  </tbody>\n",
       "</table>\n",
       "<p>5 rows × 76 columns</p>\n",
       "</div>"
      ],
      "text/plain": [
       "       PCA_variable_1  PCA_variable_2  cap-shape_b  cap-shape_c  cap-shape_f  \\\n",
       "29797       -1.013792       -0.210430            0            0            1   \n",
       "6934        -0.247887        0.083989            0            0            0   \n",
       "46994       -0.619465        0.124173            0            0            1   \n",
       "7289         0.123042        0.955800            0            0            1   \n",
       "27942       -0.258974        0.835133            0            0            0   \n",
       "\n",
       "       cap-shape_o  cap-shape_p  cap-shape_s  cap-shape_x  cap-color_b  ...  \\\n",
       "29797            0            0            0            0            0  ...   \n",
       "6934             0            0            0            1            0  ...   \n",
       "46994            0            0            0            0            0  ...   \n",
       "7289             0            0            0            0            0  ...   \n",
       "27942            0            0            0            1            0  ...   \n",
       "\n",
       "       habitat_h  habitat_l  habitat_m  habitat_p  habitat_u  habitat_w  \\\n",
       "29797          0          0          0          0          0          0   \n",
       "6934           0          1          0          0          0          0   \n",
       "46994          0          0          0          0          0          0   \n",
       "7289           1          0          0          0          0          0   \n",
       "27942          0          0          0          0          0          0   \n",
       "\n",
       "       season_a  season_s  season_u  season_w  \n",
       "29797         0         0         1         0  \n",
       "6934          1         0         0         0  \n",
       "46994         0         0         1         0  \n",
       "7289          1         0         0         0  \n",
       "27942         1         0         0         0  \n",
       "\n",
       "[5 rows x 76 columns]"
      ]
     },
     "execution_count": 40,
     "metadata": {},
     "output_type": "execute_result"
    }
   ],
   "source": [
    "#Convert categorical variables to dummy\n",
    "to_dummy_all = pd.get_dummies(transformed_input, columns=['cap-shape','cap-color','does-bruise-or-bleed','gill-attachment','gill-color','stem-color','has-ring','ring-type','habitat','season'])\n",
    "X_train, X_test, y_train, y_test = train_test_split(to_dummy_all, output, random_state=21, test_size=0.4)\n",
    "X_train.head()"
   ]
  },
  {
   "cell_type": "markdown",
   "metadata": {},
   "source": [
    "## Naive Bayes"
   ]
  },
  {
   "cell_type": "code",
   "execution_count": null,
   "metadata": {},
   "outputs": [],
   "source": [
    "# Training the Model\n",
    "from sklearn.naive_bayes import GaussianNB\n",
    "\n",
    "g_nb = GaussianNB()\n",
    "\n",
    "g_nb.fit(X_train, y_train)\n",
    "\n",
    "g_nb.score(X_test, y_test)\n"
   ]
  },
  {
   "cell_type": "markdown",
   "metadata": {},
   "source": [
    "## Logistic Regression"
   ]
  },
  {
   "cell_type": "code",
   "execution_count": null,
   "metadata": {},
   "outputs": [],
   "source": [
    "from sklearn.linear_model import LogisticRegression\n",
    "# Run the Logistic Regression Model: \n",
    "## (a) Define function, train the model. Report coefficient.\n",
    "logreg = LogisticRegression()\n",
    "logreg.fit(X_train, y_train)\n",
    "print(logreg.coef_, logreg.intercept_)\n",
    "\n",
    "## (b) Accuracy (test set)\n",
    "print(\"Accuracy is:\", logreg.score(X_test, y_test))\n",
    "\n",
    "# Get it manually: do prediction\n",
    "\n",
    "logreg_y_test_pred = logreg.predict(X_test)\n",
    "\n",
    "np.sum(logreg_y_test_pred == y_test)/X_test.shape[0]"
   ]
  },
  {
   "cell_type": "code",
   "execution_count": null,
   "metadata": {},
   "outputs": [],
   "source": [
    "# Suppose another classifier: it classifies all records to class zero. What would be the accuracy?\n",
    "\n",
    "print(np.sum(y_test==0)/X_test.shape[0])  # proportion of zeros in test set\n",
    "\n",
    "# another way:\n",
    "\n",
    "1 - np.mean(y_test)"
   ]
  },
  {
   "cell_type": "code",
   "execution_count": null,
   "metadata": {},
   "outputs": [],
   "source": [
    "from sklearn.metrics import confusion_matrix\n",
    "my_matrix = confusion_matrix(y_test, logreg_y_test_pred)\n",
    "my_matrix"
   ]
  },
  {
   "cell_type": "code",
   "execution_count": null,
   "metadata": {},
   "outputs": [],
   "source": [
    "print(\"TP is:\", my_matrix[1, 1])\n",
    "print(\"TN is:\", my_matrix[0, 0])\n",
    "print(\"FP is:\", my_matrix[0, 1]) \n",
    "print(\"FN is:\", my_matrix[1, 0])\n"
   ]
  },
  {
   "cell_type": "code",
   "execution_count": null,
   "metadata": {},
   "outputs": [],
   "source": [
    "from sklearn.metrics import precision_score, recall_score, accuracy_score, f1_score\n",
    "\n",
    "print('Precision score:', precision_score(y_test, logreg_y_test_pred))\n",
    "print('Recall score:', recall_score(y_test, logreg_y_test_pred))\n",
    "print('Accuracy score:', accuracy_score(y_test, logreg_y_test_pred))\n",
    "print('F1 score:', f1_score(y_test, logreg_y_test_pred))"
   ]
  },
  {
   "cell_type": "code",
   "execution_count": null,
   "metadata": {},
   "outputs": [],
   "source": [
    "# Plot the Precision-Recall Curve\n",
    "\n",
    "from sklearn.metrics import precision_recall_curve\n",
    "\n",
    "# Get probability\n",
    "y_pred_proba = logreg.predict_proba(X_test)[:, 1]\n",
    "\n",
    "# SCollect Necessary Measures\n",
    "precision, recall, threshold = precision_recall_curve(y_test, y_pred_proba)\n",
    "# Plot Figure\n",
    "plt.plot(recall, precision)\n",
    "plt.xlabel(\"Recall\")\n",
    "plt.ylabel(\"Precision\")"
   ]
  },
  {
   "cell_type": "code",
   "execution_count": null,
   "metadata": {},
   "outputs": [],
   "source": [
    "# Similar to Precision-Recall Curve\n",
    "\n",
    "from sklearn.metrics import roc_curve\n",
    "\n",
    "# Predicted Probability: y_pred_proba\n",
    "# Get Measures\n",
    "fpr, tpr , threshold = roc_curve(y_test, y_pred_proba)\n",
    "\n",
    "# Generate Figure\n",
    "\n",
    "plt.plot(fpr, tpr)\n",
    "plt.xlabel(\"FPR\")\n",
    "plt.ylabel(\"TPR\")"
   ]
  },
  {
   "cell_type": "code",
   "execution_count": null,
   "metadata": {},
   "outputs": [],
   "source": [
    "#False negatives in our confusion matrix represents poisonous mushrooms that were predicted as edible by our model.\n",
    "#This could lead to potential fatalities and hence we have adjusted threshold of the sigmoid curve to minimize false negatives.\n",
    "\n",
    "X_test_pred_df = pd.DataFrame(logreg.predict_proba(X_test)[:,1])\n",
    "#threshold_list=[0.01,0.1,0.25,0.5,0.75]\n",
    "threshold_list=[0.5,0.51,0.52,0.53,0.54,0.55,0.56,0.6]\n",
    "for i in threshold_list:\n",
    "    print('\\n###### for i ={} ######'.format(i)) \n",
    "    Y_test_pred = X_test_pred_df.applymap(lambda x: 1 if x>i else 0)\n",
    "    tn, fp, fn, tp = confusion_matrix(y_test,Y_test_pred).ravel()\n",
    "    print('True positive=',tp)\n",
    "    print('False positive=',fp)\n",
    "    print('True negative=',tn)\n",
    "    print('False negative=',fn)\n",
    "    print('Accuracy rate=' ,((tp+tn)/(tp+fp+tn+fn)))\n",
    "    print('False negative rate=' ,((fn)/(fn+tp)))\n",
    "    print('False positive rate=' ,((fp)/(fp+tn)))\n",
    "    print('Precision=' ,((tp)/(tp+fp)))\n",
    "    print('Recall=' ,((tp)/(tp+fn)))\n",
    "    print('F1=' ,(2*((((tp)/(tp+fp))*((tp)/(tp+fn)))/(((tp)/(tp+fp))+((tp)/(tp+fn))))))\n",
    "    \n",
    "    "
   ]
  },
  {
   "cell_type": "markdown",
   "metadata": {},
   "source": [
    "## Ensemble Methods"
   ]
  },
  {
   "cell_type": "markdown",
   "metadata": {},
   "source": [
    "## Voting Classifier"
   ]
  },
  {
   "cell_type": "code",
   "execution_count": null,
   "metadata": {},
   "outputs": [],
   "source": [
    "# Define Functions/Estimators\n",
    "\n",
    "from sklearn.linear_model import LogisticRegression\n",
    "from sklearn.svm import SVC\n",
    "from sklearn.naive_bayes import GaussianNB\n",
    "\n",
    "log_clf = LogisticRegression(random_state=42)\n",
    "svm_clf = SVC(kernel = 'rbf', random_state=42) \n",
    "nbg_clf = GaussianNB()"
   ]
  },
  {
   "cell_type": "code",
   "execution_count": null,
   "metadata": {},
   "outputs": [],
   "source": [
    "# Apply Voting Classifier\n",
    "\n",
    "from sklearn.ensemble import VotingClassifier\n",
    "\n",
    "# Define voting classifier\n",
    "voting_clf = VotingClassifier(\n",
    "    estimators=[('lr1', log_clf), ('svc', svm_clf), ('nbg', nbg_clf)],\n",
    "    voting='hard')\n",
    "\n",
    "# Train the model\n",
    "voting_clf.fit(X_train, y_train)\n",
    "\n",
    "# Performance Measure\n",
    "print(\"Test score for voting classifier is:\", voting_clf.score(X_test, y_test))"
   ]
  },
  {
   "cell_type": "code",
   "execution_count": null,
   "metadata": {},
   "outputs": [],
   "source": [
    "#Confusion matrix for voting classifier\n",
    "voting_y_test_pred = voting_clf.predict(X_test)\n",
    "tn, fp, fn, tp = confusion_matrix(y_test,voting_y_test_pred).ravel()\n",
    "print('True positive=',tp)\n",
    "print('False positive=',fp)\n",
    "print('True negative=',tn)\n",
    "print('False negative=',fn)\n",
    "print('Accuracy rate=' ,((tp+tn)/(tp+fp+tn+fn)))\n",
    "print('False negative rate=' ,((fn)/(fn+tp)))\n",
    "print('False positive rate=' ,((fp)/(fp+tn)))\n",
    "print('Precision=' ,((tp)/(tp+fp)))\n",
    "print('Recall=' ,((tp)/(tp+fn)))\n",
    "print('F1=' ,(2*((((tp)/(tp+fp))*((tp)/(tp+fn)))/(((tp)/(tp+fp))+((tp)/(tp+fn))))))"
   ]
  },
  {
   "cell_type": "markdown",
   "metadata": {},
   "source": [
    "## Bagging"
   ]
  },
  {
   "cell_type": "code",
   "execution_count": null,
   "metadata": {},
   "outputs": [],
   "source": [
    "from sklearn.ensemble import BaggingClassifier\n",
    "from sklearn.tree import DecisionTreeClassifier\n",
    "\n",
    "dt=DecisionTreeClassifier(random_state=42)\n",
    "\n",
    "bag_clf = BaggingClassifier(dt, # estimator\n",
    "                            n_estimators=200, # K, we have 200 predicted values\n",
    "                            max_samples=100, # B\n",
    "                            bootstrap=True, random_state=42)\n",
    "\n",
    "\n",
    "bag_clf.fit(X_train, y_train)\n",
    "y_pred = bag_clf.predict(X_test)\n",
    "\n",
    "print(bag_clf.score(X_test, y_test))"
   ]
  },
  {
   "cell_type": "code",
   "execution_count": null,
   "metadata": {},
   "outputs": [],
   "source": [
    "#Confusion matrix for bagging\n",
    "bag_y_test_pred = bag_clf.predict(X_test)\n",
    "tn, fp, fn, tp = confusion_matrix(y_test,bag_y_test_pred).ravel()\n",
    "print('True positive=',tp)\n",
    "print('False positive=',fp)\n",
    "print('True negative=',tn)\n",
    "print('False negative=',fn)\n",
    "print('Accuracy rate=' ,((tp+tn)/(tp+fp+tn+fn)))\n",
    "print('False negative rate=' ,((fn)/(fn+tp)))\n",
    "print('False positive rate=' ,((fp)/(fp+tn)))\n",
    "print('Precision=' ,((tp)/(tp+fp)))\n",
    "print('Recall=' ,((tp)/(tp+fn)))\n",
    "print('F1=' ,(2*((((tp)/(tp+fp))*((tp)/(tp+fn)))/(((tp)/(tp+fp))+((tp)/(tp+fn))))))"
   ]
  },
  {
   "cell_type": "markdown",
   "metadata": {},
   "source": [
    "## Random Forest"
   ]
  },
  {
   "cell_type": "code",
   "execution_count": null,
   "metadata": {},
   "outputs": [],
   "source": [
    "from sklearn.ensemble import RandomForestClassifier\n",
    "\n",
    "rnd_clf = RandomForestClassifier(n_estimators=200, max_samples=100, random_state=42)\n",
    "# forest with 200 trees, each tree is trained with sample sie (maximum) 100\n",
    "\n",
    "rnd_clf.fit(X_train, y_train)\n",
    "\n",
    "print(rnd_clf.score(X_test, y_test))"
   ]
  },
  {
   "cell_type": "code",
   "execution_count": null,
   "metadata": {},
   "outputs": [],
   "source": [
    "#Confusion matrix for random forest\n",
    "rnd_y_test_pred = rnd_clf.predict(X_test)\n",
    "tn, fp, fn, tp = confusion_matrix(y_test,rnd_y_test_pred).ravel()\n",
    "print('True positive=',tp)\n",
    "print('False positive=',fp)\n",
    "print('True negative=',tn)\n",
    "print('False negative=',fn)\n",
    "print('Accuracy rate=' ,((tp+tn)/(tp+fp+tn+fn)))\n",
    "print('False negative rate=' ,((fn)/(fn+tp)))\n",
    "print('False positive rate=' ,((fp)/(fp+tn)))\n",
    "print('Precision=' ,((tp)/(tp+fp)))\n",
    "print('Recall=' ,((tp)/(tp+fn)))\n",
    "print('F1=' ,(2*((((tp)/(tp+fp))*((tp)/(tp+fn)))/(((tp)/(tp+fp))+((tp)/(tp+fn))))))"
   ]
  },
  {
   "cell_type": "markdown",
   "metadata": {},
   "source": [
    "## AdaBoost"
   ]
  },
  {
   "cell_type": "code",
   "execution_count": null,
   "metadata": {},
   "outputs": [],
   "source": [
    "from sklearn.ensemble import AdaBoostClassifier\n",
    "\n",
    "# Define base model\n",
    "naive_dt = DecisionTreeClassifier(max_depth=1)\n",
    "\n",
    "# AdaBoost\n",
    "ada_clf = AdaBoostClassifier(\n",
    "    naive_dt, n_estimators=200, learning_rate=0.5,\n",
    "    random_state=42)\n",
    "\n",
    "ada_clf.fit(X_train, y_train)\n",
    "\n",
    "# Performance\n",
    "print(ada_clf.score(X_test, y_test))"
   ]
  },
  {
   "cell_type": "code",
   "execution_count": null,
   "metadata": {},
   "outputs": [],
   "source": [
    "#Confusion matrix for random forest\n",
    "ada_y_test_pred = ada_clf.predict(X_test)\n",
    "tn, fp, fn, tp = confusion_matrix(y_test,ada_y_test_pred).ravel()\n",
    "print('True positive=',tp)\n",
    "print('False positive=',fp)\n",
    "print('True negative=',tn)\n",
    "print('False negative=',fn)\n",
    "print('Accuracy rate=' ,((tp+tn)/(tp+fp+tn+fn)))\n",
    "print('False negative rate=' ,((fn)/(fn+tp)))\n",
    "print('False positive rate=' ,((fp)/(fp+tn)))\n",
    "print('Precision=' ,((tp)/(tp+fp)))\n",
    "print('Recall=' ,((tp)/(tp+fn)))\n",
    "print('F1=' ,(2*((((tp)/(tp+fp))*((tp)/(tp+fn)))/(((tp)/(tp+fp))+((tp)/(tp+fn))))))"
   ]
  },
  {
   "cell_type": "markdown",
   "metadata": {},
   "source": [
    "# KNN"
   ]
  },
  {
   "cell_type": "code",
   "execution_count": null,
   "metadata": {},
   "outputs": [],
   "source": [
    "# Train a k-NN model with k = 3\n",
    "from sklearn.neighbors import KNeighborsClassifier\n",
    "\n",
    "knn_3 = KNeighborsClassifier(n_neighbors = 3)\n",
    "\n",
    "knn_3.fit(X_train, y_train)\n",
    "knn_3.predict(X_test)\n",
    "knn_3.score(X_test, y_test), knn_3.score(X_train, y_train)"
   ]
  },
  {
   "cell_type": "code",
   "execution_count": null,
   "metadata": {},
   "outputs": [],
   "source": [
    "#Grid search\n",
    "from sklearn.model_selection import GridSearchCV\n",
    "from sklearn.neighbors import KNeighborsClassifier\n",
    "\n",
    "# define function\n",
    "knn = KNeighborsClassifier()\n",
    "\n",
    "# range(3, 26, 2) # increase by 2\n",
    "\n",
    "param_knn = {'n_neighbors': range(3, 26, 2)}  # exactly the same as the input variable name. \n",
    "\n",
    "#apply grid search\n",
    "knn_grid = GridSearchCV(knn, param_knn, cv = 5, n_jobs=3)\n",
    "\n",
    "knn_grid.fit(X_train, y_train)\n",
    "\n",
    "# the best hyperparameter chosen:\n",
    "print(knn_grid.best_params_)\n",
    "\n",
    "print(knn_grid.best_score_)\n",
    "knn_grid.best_estimator_ # get the knn back"
   ]
  },
  {
   "cell_type": "code",
   "execution_count": null,
   "metadata": {},
   "outputs": [],
   "source": [
    "#Performace metrics\n",
    "y_test_pred = knn_grid.predict(X_test)\n",
    "from sklearn.metrics import confusion_matrix\n",
    "my_matrix = confusion_matrix(y_test, y_test_pred)\n",
    "my_matrix\n",
    "\n",
    "print(\"TP is:\", my_matrix[1, 1])\n",
    "print(\"TN is:\", my_matrix[0, 0])\n",
    "print(\"FP is:\", my_matrix[0, 1]) \n",
    "print(\"FN is:\", my_matrix[1, 0])\n",
    "\n",
    "from sklearn.metrics import precision_score, recall_score, accuracy_score, f1_score\n",
    "\n",
    "print('Precision score:', precision_score(y_test, y_test_pred))\n",
    "print('Recall score:', recall_score(y_test, y_test_pred))\n",
    "print('Accuracy score:', accuracy_score(y_test, y_test_pred))\n",
    "print('F1 score:', f1_score(y_test, y_test_pred))"
   ]
  },
  {
   "cell_type": "code",
   "execution_count": null,
   "metadata": {},
   "outputs": [],
   "source": [
    "#Precision-Recall Curve\n",
    "\n",
    "from sklearn.metrics import precision_recall_curve\n",
    "\n",
    "# S1. Get probability\n",
    "y_pred_proba = knn_grid.predict_proba(X_test)[:, 1]\n",
    "\n",
    "# S2. Collect Necessary Measures\n",
    "precision, recall, threshold = precision_recall_curve(y_test, y_pred_proba)\n",
    "# S3. Plot Figure\n",
    "plt.plot(recall, precision)\n",
    "plt.xlabel(\"Recall\")\n",
    "plt.ylabel(\"Precision\")"
   ]
  },
  {
   "cell_type": "code",
   "execution_count": null,
   "metadata": {},
   "outputs": [],
   "source": [
    "from sklearn.metrics import roc_auc_score\n",
    "\n",
    "# we have obtained the predicted probability in the previous step: y_pred_proba\n",
    "\n",
    "auc = roc_auc_score(y_test, y_test_pred)\n",
    "\n",
    "print(\"AUC for KNN:\",  auc )"
   ]
  },
  {
   "cell_type": "code",
   "execution_count": null,
   "metadata": {},
   "outputs": [],
   "source": [
    "from sklearn.metrics import roc_curve\n",
    "\n",
    "# Predicted Probability: y_pred_proba\n",
    "# Get Measures\n",
    "fpr, tpr , threshold = roc_curve(y_test, y_pred_proba)\n",
    "\n",
    "# Generate Figure\n",
    "\n",
    "plt.plot(fpr, tpr)\n",
    "plt.xlabel(\"FPR\")\n",
    "plt.ylabel(\"TPR\")"
   ]
  },
  {
   "cell_type": "markdown",
   "metadata": {},
   "source": [
    "# Linear SVM #"
   ]
  },
  {
   "cell_type": "code",
   "execution_count": null,
   "metadata": {},
   "outputs": [],
   "source": [
    "## Linear SVM\n",
    "from sklearn.svm import LinearSVC\n",
    "lr_svc = LinearSVC()\n",
    "lr_svc.fit(X_train, y_train)\n",
    "lr_svc.score(X_test, y_test)"
   ]
  },
  {
   "cell_type": "code",
   "execution_count": null,
   "metadata": {},
   "outputs": [],
   "source": [
    "# Linear SVC with GridSearchCV\n",
    "from sklearn.model_selection import GridSearchCV\n",
    "\n",
    "# Define Function\n",
    "linear_svc = LinearSVC(random_state = 22) # must specify random state here\n",
    "\n",
    "# Define a list of hyperparameters\n",
    "params_svc = {'C': [0.001, 0.01, 0.1, 1, 10, 100, 100000]   }\n",
    "\n",
    "grid_lr_svc = GridSearchCV(linear_svc, params_svc, cv = 5, n_jobs=3)\n",
    "\n",
    "grid_lr_svc.fit(X_train, y_train)"
   ]
  },
  {
   "cell_type": "code",
   "execution_count": null,
   "metadata": {},
   "outputs": [],
   "source": [
    "print(grid_lr_svc.best_params_)\n",
    "print(grid_lr_svc.best_score_)"
   ]
  },
  {
   "cell_type": "code",
   "execution_count": null,
   "metadata": {},
   "outputs": [],
   "source": [
    "## Confusion Matrix for Linear SVM with CV\n",
    "from sklearn.metrics import confusion_matrix\n",
    "\n",
    "y_test_pred = grid_lr_svc.predict(X_test)\n",
    "my_matrix = confusion_matrix(y_test, y_test_pred)\n",
    "my_matrix"
   ]
  },
  {
   "cell_type": "code",
   "execution_count": null,
   "metadata": {},
   "outputs": [],
   "source": [
    "from sklearn.metrics import precision_score, recall_score, accuracy_score, f1_score\n",
    "\n",
    "print('Precision score:', precision_score(y_test, y_test_pred))\n",
    "print('Recall score:', recall_score(y_test, y_test_pred))\n",
    "print('Accuracy score:', accuracy_score(y_test, y_test_pred))\n",
    "print('F1 score:', f1_score(y_test, y_test_pred))"
   ]
  },
  {
   "cell_type": "code",
   "execution_count": null,
   "metadata": {},
   "outputs": [],
   "source": [
    "print(\"TP is:\", my_matrix[1, 1])\n",
    "print(\"TN is:\", my_matrix[0, 0])\n",
    "print(\"FP is:\", my_matrix[0, 1]) \n",
    "print(\"FN is:\", my_matrix[1, 0])\n",
    "print(\"FN Rate is:\", my_matrix[1, 0]/(my_matrix[1, 0] + my_matrix[1, 1]))"
   ]
  },
  {
   "cell_type": "code",
   "execution_count": null,
   "metadata": {},
   "outputs": [],
   "source": [
    "from sklearn.metrics import (precision_recall_curve, PrecisionRecallDisplay)\n",
    "\n",
    "precision, recall, _ = precision_recall_curve(y_test, y_test_pred)\n",
    "disp = PrecisionRecallDisplay(precision=precision, recall=recall)\n",
    "disp.plot()\n",
    "plt.show()"
   ]
  },
  {
   "cell_type": "code",
   "execution_count": null,
   "metadata": {},
   "outputs": [],
   "source": [
    "from sklearn import metrics\n",
    "# AOC/ROC curve\n",
    "metrics.plot_roc_curve(grid_lr_svc, X_test, y_test)"
   ]
  },
  {
   "cell_type": "code",
   "execution_count": null,
   "metadata": {},
   "outputs": [],
   "source": [
    "# Print scatter plot to view classification of the simplified dataset\n",
    "import seaborn as sns\n",
    "\n",
    "df1 = ['Edible' if i==0 else 'Poisonous' for i in output]\n",
    "df = pd.DataFrame(df1, columns=['Class'])\n",
    "full_data = pd.concat([continous_input, df], axis = 1)\n",
    "\n",
    "sns.scatterplot(data=full_data, x='PCA_variable_1', y='PCA_variable_2', hue=\"Class\")"
   ]
  },
  {
   "cell_type": "markdown",
   "metadata": {},
   "source": [
    "# SVM with Kernel RBF #"
   ]
  },
  {
   "cell_type": "code",
   "execution_count": null,
   "metadata": {},
   "outputs": [],
   "source": [
    "from sklearn.svm import SVC\n",
    "\n",
    "k_svm = SVC(kernel = 'rbf', random_state = 22)\n",
    "\n",
    "k_svm.fit(X_train, y_train)\n",
    "\n",
    "k_svm.score(X_test, y_test)"
   ]
  },
  {
   "cell_type": "code",
   "execution_count": null,
   "metadata": {},
   "outputs": [],
   "source": [
    "# SVM (RBF with CV=5)\n",
    "from sklearn.svm import SVC\n",
    "from sklearn.model_selection import GridSearchCV\n",
    "\n",
    "# Define Function\n",
    "svm = SVC(kernel = 'rbf', random_state = 22)\n",
    "\n",
    "#define a list of parameters\n",
    "param_svc_kernel = {'C':  [0.001, 0.01, 0.1, 1, 10, 100, 10000]     ,\n",
    "                    'gamma':   [0.0001, 0.001,0.1,1,10]    } # C = 10,000 mimics hard-margin SVM\n",
    "\n",
    "#apply grid search\n",
    "grid_svm = GridSearchCV(svm, param_svc_kernel, cv = 5, n_jobs=3)\n",
    "\n",
    "grid_svm.fit(X_train, y_train)"
   ]
  },
  {
   "cell_type": "code",
   "execution_count": null,
   "metadata": {},
   "outputs": [],
   "source": [
    "print(grid_svm.best_params_)\n",
    "print(grid_svm.best_score_)"
   ]
  },
  {
   "cell_type": "code",
   "execution_count": null,
   "metadata": {},
   "outputs": [],
   "source": [
    "grid_svm.score(X_test, y_test)"
   ]
  },
  {
   "cell_type": "code",
   "execution_count": null,
   "metadata": {},
   "outputs": [],
   "source": [
    "## Confusion Matrix\n",
    "from sklearn.metrics import confusion_matrix\n",
    "\n",
    "y_test_pred = grid_svm.predict(X_test)\n",
    "my_matrix = confusion_matrix(y_test, y_test_pred)\n",
    "my_matrix"
   ]
  },
  {
   "cell_type": "code",
   "execution_count": null,
   "metadata": {},
   "outputs": [],
   "source": [
    "from sklearn.metrics import precision_score, recall_score, accuracy_score, f1_score\n",
    "\n",
    "print('Precision score:', precision_score(y_test, y_test_pred))\n",
    "print('Recall score:', recall_score(y_test, y_test_pred))\n",
    "print('Accuracy score:', accuracy_score(y_test, y_test_pred))\n",
    "print('F1 score:', f1_score(y_test, y_test_pred))"
   ]
  },
  {
   "cell_type": "code",
   "execution_count": null,
   "metadata": {},
   "outputs": [],
   "source": [
    "print(\"TP is:\", my_matrix[1, 1])\n",
    "print(\"TN is:\", my_matrix[0, 0])\n",
    "print(\"FP is:\", my_matrix[0, 1]) \n",
    "print(\"FN is:\", my_matrix[1, 0])\n",
    "print(\"FN Rate is:\", my_matrix[1, 0]/(my_matrix[1, 0] + my_matrix[1, 1]))"
   ]
  },
  {
   "cell_type": "code",
   "execution_count": null,
   "metadata": {},
   "outputs": [],
   "source": [
    "from sklearn.metrics import (precision_recall_curve, PrecisionRecallDisplay)\n",
    "\n",
    "precision, recall, _ = precision_recall_curve(y_test, y_test_pred)\n",
    "disp = PrecisionRecallDisplay(precision=precision, recall=recall)\n",
    "disp.plot()\n",
    "plt.show()"
   ]
  },
  {
   "cell_type": "code",
   "execution_count": null,
   "metadata": {},
   "outputs": [],
   "source": [
    "from sklearn import metrics\n",
    "# AOC/ROC curve\n",
    "metrics.plot_roc_curve(grid_svm, X_test, y_test)"
   ]
  },
  {
   "cell_type": "code",
   "execution_count": null,
   "metadata": {},
   "outputs": [],
   "source": [
    "#K-MEANS#"
   ]
  },
  {
   "cell_type": "code",
   "execution_count": 17,
   "metadata": {},
   "outputs": [
    {
     "name": "stdout",
     "output_type": "stream",
     "text": [
      "Silhouette score for clusters:\n",
      "Silhouette score for k(clusters) = 3 is 0.46406668128939044\n",
      "Silhouette score for k(clusters) = 4 is 0.4342447176220962\n",
      "Silhouette score for k(clusters) = 5 is 0.43646747454288604\n",
      "Silhouette score for k(clusters) = 6 is 0.3282891807179744\n",
      "Silhouette score for k(clusters) = 7 is 0.32175164798491196\n",
      "Silhouette score for k(clusters) = 8 is 0.28954649659479303\n"
     ]
    }
   ],
   "source": [
    "#Using the Silhouette method, it can be seen that the Silhouette value is maximum for K=6. \n",
    "#Hence it can be concluded that the dataset can be segmented properly with 6 clusters.\n",
    "import sklearn.cluster as cluster\n",
    "import sklearn.metrics as metrics\n",
    "print(\"Silhouette score for clusters:\")\n",
    "for i in range(3,9):\n",
    "    labels=cluster.KMeans(n_clusters=i,random_state=200).fit(scaled_input_data_continous).labels_\n",
    "    print (\"Silhouette score for k(clusters) = \"+str(i)+\" is \"\n",
    "           +str(metrics.silhouette_score(scaled_input_data_continous,labels,metric=\"euclidean\",sample_size=1000,random_state=200)))"
   ]
  },
  {
   "cell_type": "code",
   "execution_count": 18,
   "metadata": {},
   "outputs": [
    {
     "name": "stdout",
     "output_type": "stream",
     "text": [
      "[1472.3082968789568, 862.8174184589608, 685.6164639301956, 547.1739605504325, 458.3165264107207, 370.11927605171536, 321.05732598986197, 279.16155239010703, 250.42506448138445]\n"
     ]
    }
   ],
   "source": [
    "from sklearn.cluster import KMeans\n",
    "wss=[]\n",
    "K = range(1,10)\n",
    "for k in K:\n",
    "    kmeans = KMeans(n_clusters=k)\n",
    "    kmeans.fit(scaled_input_data_continous)\n",
    "    wss.append(kmeans.inertia_)\n",
    "kmeans\n",
    "print(wss)"
   ]
  },
  {
   "cell_type": "code",
   "execution_count": 19,
   "metadata": {},
   "outputs": [
    {
     "data": {
      "image/png": "[encoded data removed]",
      "text/plain": [
       "<Figure size 1152x576 with 1 Axes>"
      ]
     },
     "metadata": {
      "needs_background": "light"
     },
     "output_type": "display_data"
    }
   ],
   "source": [
    "plt.figure(figsize=(16,8))\n",
    "plt.plot(K, wss, 'bx-')\n",
    "plt.xlabel('k')\n",
    "plt.ylabel('wss')\n",
    "plt.title('The Elbow Method showing the optimal k')\n",
    "plt.show()"
   ]
  },
  {
   "cell_type": "code",
   "execution_count": 20,
   "metadata": {},
   "outputs": [
    {
     "data": {
      "text/plain": [
       "KMeans(n_clusters=3)"
      ]
     },
     "execution_count": 20,
     "metadata": {},
     "output_type": "execute_result"
    }
   ],
   "source": [
    "kmeanModel = KMeans(n_clusters=3)\n",
    "kmeanModel.fit(scaled_input_data_continous)"
   ]
  },
  {
   "cell_type": "code",
   "execution_count": 21,
   "metadata": {},
   "outputs": [
    {
     "name": "stdout",
     "output_type": "stream",
     "text": [
      "Number of Clusters : 3\n",
      "predicted Labels [2 2 2 ... 1 1 1]\n",
      "Number of unique clusters [0 1 2]\n",
      "The number of elememts in a list 3\n",
      "performance score -685.6157707245189\n"
     ]
    }
   ],
   "source": [
    "cls_predict=kmeanModel.predict(scaled_input_data_continous)\n",
    "print(\"Number of Clusters : 3\")\n",
    "print(\"predicted Labels\",cls_predict)\n",
    "print(\"Number of unique clusters\",np.unique(cls_predict))\n",
    "print(\"The number of elememts in a list\",len(np.unique(cls_predict)))\n",
    "print(\"performance score\",kmeanModel.score(scaled_input_data_continous))\n"
   ]
  },
  {
   "cell_type": "code",
   "execution_count": 21,
   "metadata": {},
   "outputs": [],
   "source": [
    "from sklearn.tree import DecisionTreeClassifier\n",
    "\n",
    "#train and test decision tree classifier\n",
    "ds = DecisionTreeClassifier(random_state = 21, criterion = 'entropy')\n",
    "ds.fit(X_train, y_train)\n",
    "ds.score(X_train, y_train)\n",
    "X_test_pred=ds.predict(X_test)"
   ]
  },
  {
   "cell_type": "code",
   "execution_count": 22,
   "metadata": {},
   "outputs": [
    {
     "name": "stdout",
     "output_type": "stream",
     "text": [
      "0.9914913129872115\n",
      "True positive= 10610\n",
      "False positive= 76\n",
      "True negative= 8850\n",
      "False negative= 91\n",
      "F1 score: 0.992191518211998\n"
     ]
    }
   ],
   "source": [
    "from sklearn.metrics import confusion_matrix\n",
    "from sklearn.metrics import f1_score\n",
    "print(ds.score(X_test,y_test))\n",
    "tn, fp, fn, tp = confusion_matrix(X_test_pred,y_test).ravel()\n",
    "print('True positive=',tp)\n",
    "print('False positive=',fp)\n",
    "print('True negative=',tn)\n",
    "print('False negative=',fn)\n",
    "\n",
    "print('F1 score:',f1_score(y_test,X_test_pred))"
   ]
  },
  {
   "cell_type": "code",
   "execution_count": 23,
   "metadata": {},
   "outputs": [
    {
     "data": {
      "image/png": "[encoded data removed]",
      "text/plain": [
       "<Figure size 1440x720 with 1 Axes>"
      ]
     },
     "metadata": {
      "needs_background": "light"
     },
     "output_type": "display_data"
    }
   ],
   "source": [
    "# Plot the decision tree\n",
    "from sklearn import tree\n",
    "fig = plt.figure(figsize=(20,10)) # set a proper figure size (in case that the figure is too small to read or ratio is not proper)\n",
    "\n",
    "tree.plot_tree(ds, feature_names = to_dummy_all.columns, # specify variable names \n",
    "               class_names = ['poisonous','edible'], # specify class (Y) names\n",
    "               filled = True, impurity = False) # whether to color the boxes, whether to report gini index\n",
    "             #   fontsize = 12) # set fontsize to read\n",
    "plt.show()\n"
   ]
  },
  {
   "cell_type": "code",
   "execution_count": 39,
   "metadata": {},
   "outputs": [
    {
     "name": "stdout",
     "output_type": "stream",
     "text": [
      "Optimum parameters: {'max_leaf_nodes': 29, 'min_samples_split': 2}\n",
      "Acccuracy of the new tree: 0.8195852651959036\n"
     ]
    }
   ],
   "source": [
    "#The above decision true is very accurate but has so many leaves that it has lost its interpretability.\n",
    "#We have tuned the tree to restrict maximum number of leaves and gain back interpretability while giving up accuracy.\n",
    "\n",
    "from sklearn.model_selection import GridSearchCV\n",
    "\n",
    "opt_tree = DecisionTreeClassifier(random_state = 0)\n",
    "\n",
    "dt_params = {'min_samples_split':  range(1,4), 'max_leaf_nodes':    range(22,30)}\n",
    "\n",
    "grid_tree = GridSearchCV(opt_tree, dt_params)\n",
    "grid_tree.fit(X_train, y_train)\n",
    "\n",
    "print('Optimum parameters:',grid_tree.best_params_)\n",
    "print('Acccuracy of the new tree:',grid_tree.score(X_test,y_test))"
   ]
  },
  {
   "cell_type": "code",
   "execution_count": 40,
   "metadata": {},
   "outputs": [
    {
     "data": {
      "image/png": "[encoded data removed]",
      "text/plain": [
       "<Figure size 1440x720 with 1 Axes>"
      ]
     },
     "metadata": {
      "needs_background": "light"
     },
     "output_type": "display_data"
    }
   ],
   "source": [
    "# Plot the new decision tree\n",
    "from sklearn import tree\n",
    "fig = plt.figure(figsize=(20,10)) # set a proper figure size (in case that the figure is too small to read or ratio is not proper)\n",
    "\n",
    "tree.plot_tree(grid_tree.best_estimator_, \n",
    "               feature_names = to_dummy_all.columns, # specify variable names \n",
    "               class_names = ['poisonous','edible'], # specify class (Y) names\n",
    "               filled = True, impurity = False) # whether to color the boxes, whether to report gini index\n",
    "             #   fontsize = 12) # set fontsize to read\n",
    "plt.show()\n"
   ]
  },
  {
   "cell_type": "code",
   "execution_count": 41,
   "metadata": {},
   "outputs": [
    {
     "name": "stdout",
     "output_type": "stream",
     "text": [
      "Accuracy of decision tree: 0.8195852651959036\n",
      "True positive= 9738\n",
      "False positive= 2593\n",
      "True negative= 6348\n",
      "False negative= 948\n",
      "F1 score: 0.8461571881652692\n"
     ]
    }
   ],
   "source": [
    "print('Accuracy of decision tree:',grid_tree.score(X_test,y_test))\n",
    "X_test_pred_grid = grid_tree.predict(X_test)\n",
    "tn, fp, fn, tp = confusion_matrix(y_test,X_test_pred_grid).ravel()\n",
    "print('True positive=',tp)\n",
    "print('False positive=',fp)\n",
    "print('True negative=',tn)\n",
    "print('False negative=',fn)\n",
    "\n",
    "print('F1 score:',f1_score(y_test,X_test_pred_grid))"
   ]
  },
  {
   "cell_type": "code",
   "execution_count": 42,
   "metadata": {},
   "outputs": [
    {
     "name": "stdout",
     "output_type": "stream",
     "text": [
      "Accuracy is: 0.745096041167779\n"
     ]
    }
   ],
   "source": [
    "from sklearn.linear_model import LogisticRegression\n",
    "\n",
    "# Run the Logistic Regression Model: \n",
    "\n",
    "logreg = LogisticRegression()\n",
    "logreg.fit(X_train, y_train)\n",
    "\n",
    "# Accuracy of logistic model on test data\n",
    "print(\"Accuracy is:\", logreg.score(X_test, y_test))\n",
    "\n"
   ]
  },
  {
   "cell_type": "code",
   "execution_count": 43,
   "metadata": {},
   "outputs": [
    {
     "name": "stdout",
     "output_type": "stream",
     "text": [
      "Accuracy is: 0.745096041167779\n"
     ]
    }
   ],
   "source": [
    "from sklearn.linear_model import LogisticRegression\n",
    "\n",
    "# Run the Logistic Regression Model: \n",
    "\n",
    "logreg = LogisticRegression()\n",
    "logreg.fit(X_train, y_train)\n",
    "\n",
    "# Accuracy of logistic model on test data\n",
    "print(\"Accuracy is:\", logreg.score(X_test, y_test))\n",
    "\n"
   ]
  },
  {
   "cell_type": "code",
   "execution_count": 44,
   "metadata": {},
   "outputs": [
    {
     "name": "stdout",
     "output_type": "stream",
     "text": [
      "         Attribute  Importance\n",
      "0   PCA_variable_1    0.093735\n",
      "1   PCA_variable_2   -0.102045\n",
      "2      cap-shape_b    1.033621\n",
      "3      cap-shape_c   -0.298603\n",
      "4      cap-shape_f   -0.185255\n",
      "..             ...         ...\n",
      "71       habitat_w   -2.333798\n",
      "72        season_a    0.487747\n",
      "73        season_s   -0.739230\n",
      "74        season_u    0.578561\n",
      "75        season_w   -0.522986\n",
      "\n",
      "[76 rows x 2 columns]\n"
     ]
    }
   ],
   "source": [
    "importance = pd.DataFrame(data={\n",
    "    'Attribute': X_train.columns,\n",
    "    'Importance': logreg.coef_[0]\n",
    "})\n",
    "print(importance)"
   ]
  },
  {
   "cell_type": "code",
   "execution_count": 55,
   "metadata": {},
   "outputs": [
    {
     "name": "stdout",
     "output_type": "stream",
     "text": [
      "[1.0336211250371437, -0.7505583319839222, 0.9485035460343882, 0.9025670889254762, 0.9207572916081915, -1.8740990651926825, 1.130881058195298, -3.217483792618806, 4.18379780481194, -1.509647691021723, 1.4969091689106448, -1.819720354634854, 1.245357962105594, -1.3181604651990362, -2.987930682437574, 2.792022996064117, 3.319970546541941, -1.1514390095743474, -2.4121957504853393, -0.8863828396153913, -2.3088088695509383, 3.3622805413529417, 0.837835373064363, 3.6298642526386016, -2.637647937435274, -2.3337980422873192]\n",
      "['cap-shape_b', 'cap-shape_s', 'cap-color_e', 'cap-color_r', 'gill-attachment_d', 'gill-attachment_p', 'gill-color_e', 'stem-color_b', 'stem-color_f', 'stem-color_g', 'stem-color_k', 'stem-color_l', 'stem-color_p', 'stem-color_w', 'has-ring_f', 'has-ring_t', 'ring-type_f', 'ring-type_g', 'ring-type_l', 'ring-type_p', 'ring-type_r', 'ring-type_z', 'habitat_g', 'habitat_p', 'habitat_u', 'habitat_w']\n"
     ]
    },
    {
     "data": {
      "image/png": "[encoded data removed]",
      "text/plain": [
       "<Figure size 1440x720 with 1 Axes>"
      ]
     },
     "metadata": {
      "needs_background": "light"
     },
     "output_type": "display_data"
    }
   ],
   "source": [
    "best = []\n",
    "feature = []\n",
    "names=importance['Attribute']\n",
    "score=importance['Importance']\n",
    "i=0\n",
    "while i < len(score):\n",
    "    if score[i]>0.75:\n",
    "        best.append(score[i])\n",
    "        feature.append(names[i])\n",
    "    elif score[i] < -0.75:\n",
    "        best.append(score[i])\n",
    "        feature.append(names[i])\n",
    "    i=i+1\n",
    "    \n",
    "print(best)\n",
    "print(feature)\n",
    "plt.figure(figsize=(20, 10))\n",
    "plt.bar([x for x in names], score, align='edge', width = 0.4)\n",
    "#plt.set_xticklabels(feature)\n",
    "plt.show()\n"
   ]
  },
  {
   "cell_type": "code",
   "execution_count": 56,
   "metadata": {},
   "outputs": [
    {
     "data": {
      "text/plain": [
       "(34346, 26)"
      ]
     },
     "execution_count": 56,
     "metadata": {},
     "output_type": "execute_result"
    }
   ],
   "source": [
    "to_remove=[]\n",
    "for i in to_dummy_all:\n",
    "    if i not in feature:\n",
    "        to_remove.append(i)\n",
    "to_dummy_all_imp = to_dummy_all.drop(columns=to_remove)\n",
    "\n",
    "X_train_dropped, X_test_dropped, y_train_dropped, y_test_dropped = train_test_split(to_dummy_all_imp, class_binary, random_state=21, test_size=0.3)\n",
    "\n",
    "X_train_dropped.shape\n"
   ]
  },
  {
   "cell_type": "code",
   "execution_count": 57,
   "metadata": {},
   "outputs": [
    {
     "name": "stdout",
     "output_type": "stream",
     "text": [
      "[[ 0.60622472  0.65803714  0.09370332 ...  0.          0.\n",
      "  -0.27057214]] [0.68235481]\n",
      "Accuracy is: 0.7566741389851233\n"
     ]
    }
   ],
   "source": [
    "from sklearn.preprocessing import PolynomialFeatures\n",
    "poly = PolynomialFeatures(degree = 4)\n",
    "\n",
    "\n",
    "X_train_poly = poly.fit_transform(X_train_dropped)\n",
    "X_test_poly = poly.fit_transform(X_test_dropped)\n",
    "\n",
    "logreg_poly = LogisticRegression()\n",
    "logreg_poly.fit(X_train_poly, y_train_dropped)\n",
    "print(logreg_poly.coef_, logreg_poly.intercept_)\n",
    "print(\"Accuracy is:\", logreg_poly.score(X_test_poly, y_test_dropped))"
   ]
  },
  {
   "cell_type": "code",
   "execution_count": 58,
   "metadata": {},
   "outputs": [
    {
     "name": "stdout",
     "output_type": "stream",
     "text": [
      "True positive= 6623\n",
      "False positive= 2222\n",
      "True negative= 4516\n",
      "False negative= 1360\n",
      "F1 Score: 0.7871404801521273\n"
     ]
    }
   ],
   "source": [
    "#Confusion matrix for polynomial logistic regression model\n",
    "X_test_poly_pred = logreg_poly.predict(X_test_poly)\n",
    "tn, fp, fn, tp = confusion_matrix(y_test_dropped,X_test_poly_pred).ravel()\n",
    "print('True positive=',tp)\n",
    "print('False positive=',fp)\n",
    "print('True negative=',tn)\n",
    "print('False negative=',fn)\n",
    "\n",
    "print('F1 Score:',f1_score(y_test_dropped,X_test_poly_pred))"
   ]
  },
  {
   "cell_type": "code",
   "execution_count": 59,
   "metadata": {},
   "outputs": [
    {
     "name": "stdout",
     "output_type": "stream",
     "text": [
      "\n",
      "###### for i =0.25 ######\n",
      "True positive= 7865\n",
      "False positive= 4850\n",
      "True negative= 1888\n",
      "False negative= 118\n",
      "\n",
      "###### for i =0.3 ######\n",
      "True positive= 7194\n",
      "False positive= 3339\n",
      "True negative= 3399\n",
      "False negative= 789\n",
      "\n",
      "###### for i =0.35 ######\n",
      "True positive= 6729\n",
      "False positive= 2357\n",
      "True negative= 4381\n",
      "False negative= 1254\n",
      "\n",
      "###### for i =0.4 ######\n",
      "True positive= 6729\n",
      "False positive= 2357\n",
      "True negative= 4381\n",
      "False negative= 1254\n",
      "\n",
      "###### for i =0.45 ######\n",
      "True positive= 6705\n",
      "False positive= 2313\n",
      "True negative= 4425\n",
      "False negative= 1278\n"
     ]
    }
   ],
   "source": [
    "#False negatives in our confusion matrix represents poisonous mushrooms that were predicted as edible by our model.\n",
    "#This could lead to potential fatalities and hence we have adjusted threshold of the sigmoid curve to minimize false negatives.\n",
    "\n",
    "X_test_poly_pred_df = pd.DataFrame(logreg_poly.predict_proba(X_test_poly)[:,1])\n",
    "threshold_list=[0.25,0.3,0.35,0.4,0.45]\n",
    "for i in threshold_list:\n",
    "    print('\\n###### for i ={} ######'.format(i))\n",
    "    Y_test_pred = X_test_poly_pred_df.applymap(lambda x: 1 if x>i else 0)\n",
    "    tn, fp, fn, tp = confusion_matrix(y_test_dropped,Y_test_pred).ravel()\n",
    "    print('True positive=',tp)\n",
    "    print('False positive=',fp)\n",
    "    print('True negative=',tn)\n",
    "    print('False negative=',fn)\n"
   ]
  },
  {
   "cell_type": "markdown",
   "metadata": {},
   "source": [
    "# K-Prototype"
   ]
  },
  {
   "cell_type": "code",
   "execution_count": 41,
   "metadata": {},
   "outputs": [
    {
     "name": "stdout",
     "output_type": "stream",
     "text": [
      "Requirement already satisfied: kmodes in c:\\users\\supriya\\anaconda3\\lib\\site-packages (0.12.1)\n",
      "Requirement already satisfied: numpy>=1.10.4 in c:\\users\\supriya\\anaconda3\\lib\\site-packages (from kmodes) (1.19.2)\n",
      "Requirement already satisfied: scipy>=0.13.3 in c:\\users\\supriya\\anaconda3\\lib\\site-packages (from kmodes) (1.5.2)\n",
      "Requirement already satisfied: joblib>=0.11 in c:\\users\\supriya\\anaconda3\\lib\\site-packages (from kmodes) (0.17.0)\n",
      "Requirement already satisfied: scikit-learn>=0.22.0 in c:\\users\\supriya\\anaconda3\\lib\\site-packages (from kmodes) (0.23.2)\n",
      "Requirement already satisfied: threadpoolctl>=2.0.0 in c:\\users\\supriya\\anaconda3\\lib\\site-packages (from scikit-learn>=0.22.0->kmodes) (2.1.0)\n",
      "Note: you may need to restart the kernel to use updated packages.\n"
     ]
    }
   ],
   "source": [
    "pip install kmodes"
   ]
  },
  {
   "cell_type": "code",
   "execution_count": 42,
   "metadata": {},
   "outputs": [],
   "source": [
    "# Import module for k-protoype cluster\n",
    "from kmodes.kprototypes import KPrototypes"
   ]
  },
  {
   "cell_type": "code",
   "execution_count": 43,
   "metadata": {},
   "outputs": [
    {
     "name": "stdout",
     "output_type": "stream",
     "text": [
      "Requirement already satisfied: plotnine in c:\\users\\supriya\\anaconda3\\lib\\site-packages (0.8.0)\n",
      "Requirement already satisfied: descartes>=1.1.0 in c:\\users\\supriya\\anaconda3\\lib\\site-packages (from plotnine) (1.1.0)\n",
      "Requirement already satisfied: patsy>=0.5.1 in c:\\users\\supriya\\anaconda3\\lib\\site-packages (from plotnine) (0.5.1)\n",
      "Requirement already satisfied: numpy>=1.19.0 in c:\\users\\supriya\\anaconda3\\lib\\site-packages (from plotnine) (1.19.2)\n",
      "Requirement already satisfied: mizani>=0.7.3 in c:\\users\\supriya\\anaconda3\\lib\\site-packages (from plotnine) (0.7.4)\n",
      "Requirement already satisfied: matplotlib>=3.1.1 in c:\\users\\supriya\\anaconda3\\lib\\site-packages (from plotnine) (3.3.2)\n",
      "Requirement already satisfied: scipy>=1.5.0 in c:\\users\\supriya\\anaconda3\\lib\\site-packages (from plotnine) (1.5.2)\n",
      "Requirement already satisfied: statsmodels>=0.12.1 in c:\\users\\supriya\\anaconda3\\lib\\site-packages (from plotnine) (0.13.2)\n",
      "Requirement already satisfied: pandas>=1.1.0 in c:\\users\\supriya\\anaconda3\\lib\\site-packages (from plotnine) (1.1.3)\n",
      "Requirement already satisfied: six in c:\\users\\supriya\\anaconda3\\lib\\site-packages (from patsy>=0.5.1->plotnine) (1.15.0)\n",
      "Requirement already satisfied: palettable in c:\\users\\supriya\\anaconda3\\lib\\site-packages (from mizani>=0.7.3->plotnine) (3.3.0)\n",
      "Requirement already satisfied: python-dateutil>=2.1 in c:\\users\\supriya\\anaconda3\\lib\\site-packages (from matplotlib>=3.1.1->plotnine) (2.8.1)\n",
      "Requirement already satisfied: kiwisolver>=1.0.1 in c:\\users\\supriya\\anaconda3\\lib\\site-packages (from matplotlib>=3.1.1->plotnine) (1.3.0)\n",
      "Requirement already satisfied: certifi>=2020.06.20 in c:\\users\\supriya\\anaconda3\\lib\\site-packages (from matplotlib>=3.1.1->plotnine) (2020.6.20)\n",
      "Requirement already satisfied: cycler>=0.10 in c:\\users\\supriya\\anaconda3\\lib\\site-packages (from matplotlib>=3.1.1->plotnine) (0.10.0)\n",
      "Requirement already satisfied: pyparsing!=2.0.4,!=2.1.2,!=2.1.6,>=2.0.3 in c:\\users\\supriya\\anaconda3\\lib\\site-packages (from matplotlib>=3.1.1->plotnine) (2.4.7)\n",
      "Requirement already satisfied: pillow>=6.2.0 in c:\\users\\supriya\\anaconda3\\lib\\site-packages (from matplotlib>=3.1.1->plotnine) (8.0.1)\n",
      "Requirement already satisfied: packaging>=21.3 in c:\\users\\supriya\\anaconda3\\lib\\site-packages (from statsmodels>=0.12.1->plotnine) (21.3)\n",
      "Requirement already satisfied: pytz>=2017.2 in c:\\users\\supriya\\anaconda3\\lib\\site-packages (from pandas>=1.1.0->plotnine) (2020.1)\n",
      "Note: you may need to restart the kernel to use updated packages.\n"
     ]
    }
   ],
   "source": [
    "pip install plotnine"
   ]
  },
  {
   "cell_type": "code",
   "execution_count": 44,
   "metadata": {},
   "outputs": [
    {
     "name": "stdout",
     "output_type": "stream",
     "text": [
      "Categorical columns           : ['cap-shape', 'cap-color', 'does-bruise-or-bleed', 'gill-attachment', 'gill-color', 'stem-color', 'has-ring', 'ring-type', 'habitat', 'season']\n",
      "Categorical columns position  : [2, 3, 4, 5, 6, 7, 8, 9, 10, 11]\n"
     ]
    }
   ],
   "source": [
    "# Get the position of categorical columns\n",
    "catColumnsPos = [transformed_input.columns.get_loc(col) for col in list(transformed_input.select_dtypes('object').columns)]\n",
    "print('Categorical columns           : {}'.format(list(transformed_input.select_dtypes('object').columns)))\n",
    "print('Categorical columns position  : {}'.format(catColumnsPos))"
   ]
  },
  {
   "cell_type": "code",
   "execution_count": 45,
   "metadata": {},
   "outputs": [
    {
     "name": "stdout",
     "output_type": "stream",
     "text": [
      "Cluster initiation: 1\n",
      "Cluster initiation: 2\n",
      "Cluster initiation: 3\n",
      "Cluster initiation: 4\n",
      "Cluster initiation: 5\n",
      "Cluster initiation: 6\n",
      "Cluster initiation: 7\n",
      "Cluster initiation: 8\n",
      "Cluster initiation: 9\n"
     ]
    }
   ],
   "source": [
    "# Choosing optimal K\n",
    "cost = []\n",
    "for cluster in range(1, 10):\n",
    "        kprototype = KPrototypes(n_jobs = -1, n_clusters = cluster, init = 'Huang', random_state = 0)\n",
    "        kprototype.fit_predict(transformed_input, categorical = catColumnsPos)\n",
    "        cost.append(kprototype.cost_)\n",
    "        print('Cluster initiation: {}'.format(cluster))"
   ]
  },
  {
   "cell_type": "code",
   "execution_count": 46,
   "metadata": {},
   "outputs": [
    {
     "data": {
      "text/html": [
       "<div>\n",
       "<style scoped>\n",
       "    .dataframe tbody tr th:only-of-type {\n",
       "        vertical-align: middle;\n",
       "    }\n",
       "\n",
       "    .dataframe tbody tr th {\n",
       "        vertical-align: top;\n",
       "    }\n",
       "\n",
       "    .dataframe thead th {\n",
       "        text-align: right;\n",
       "    }\n",
       "</style>\n",
       "<table border=\"1\" class=\"dataframe\">\n",
       "  <thead>\n",
       "    <tr style=\"text-align: right;\">\n",
       "      <th></th>\n",
       "      <th>Cluster</th>\n",
       "      <th>Cost</th>\n",
       "    </tr>\n",
       "  </thead>\n",
       "  <tbody>\n",
       "    <tr>\n",
       "      <th>0</th>\n",
       "      <td>1</td>\n",
       "      <td>211308.346699</td>\n",
       "    </tr>\n",
       "    <tr>\n",
       "      <th>1</th>\n",
       "      <td>2</td>\n",
       "      <td>181095.099824</td>\n",
       "    </tr>\n",
       "    <tr>\n",
       "      <th>2</th>\n",
       "      <td>3</td>\n",
       "      <td>153363.732118</td>\n",
       "    </tr>\n",
       "    <tr>\n",
       "      <th>3</th>\n",
       "      <td>4</td>\n",
       "      <td>137729.355052</td>\n",
       "    </tr>\n",
       "    <tr>\n",
       "      <th>4</th>\n",
       "      <td>5</td>\n",
       "      <td>128856.292859</td>\n",
       "    </tr>\n",
       "    <tr>\n",
       "      <th>5</th>\n",
       "      <td>6</td>\n",
       "      <td>122374.828817</td>\n",
       "    </tr>\n",
       "    <tr>\n",
       "      <th>6</th>\n",
       "      <td>7</td>\n",
       "      <td>119200.062693</td>\n",
       "    </tr>\n",
       "    <tr>\n",
       "      <th>7</th>\n",
       "      <td>8</td>\n",
       "      <td>114357.367639</td>\n",
       "    </tr>\n",
       "    <tr>\n",
       "      <th>8</th>\n",
       "      <td>9</td>\n",
       "      <td>110329.332183</td>\n",
       "    </tr>\n",
       "  </tbody>\n",
       "</table>\n",
       "</div>"
      ],
      "text/plain": [
       "   Cluster           Cost\n",
       "0        1  211308.346699\n",
       "1        2  181095.099824\n",
       "2        3  153363.732118\n",
       "3        4  137729.355052\n",
       "4        5  128856.292859\n",
       "5        6  122374.828817\n",
       "6        7  119200.062693\n",
       "7        8  114357.367639\n",
       "8        9  110329.332183"
      ]
     },
     "execution_count": 46,
     "metadata": {},
     "output_type": "execute_result"
    }
   ],
   "source": [
    "df_cost = pd.DataFrame({'Cluster':range(1, 10), 'Cost':cost})\n",
    "df_cost"
   ]
  },
  {
   "cell_type": "code",
   "execution_count": 47,
   "metadata": {},
   "outputs": [],
   "source": [
    "from plotnine import *\n",
    "import plotnine"
   ]
  },
  {
   "cell_type": "code",
   "execution_count": 48,
   "metadata": {},
   "outputs": [
    {
     "data": {
      "image/png": "[encoded data removed]",
      "text/plain": [
       "<Figure size 800x480 with 1 Axes>"
      ]
     },
     "metadata": {
      "needs_background": "light"
     },
     "output_type": "display_data"
    },
    {
     "data": {
      "text/plain": [
       "<ggplot: (98983913102)>"
      ]
     },
     "execution_count": 48,
     "metadata": {},
     "output_type": "execute_result"
    }
   ],
   "source": [
    "plotnine.options.figure_size = (8, 4.8)\n",
    "(\n",
    "    ggplot(data = df_cost)+\n",
    "    geom_line(aes(x = 'Cluster',\n",
    "                  y = 'Cost'))+\n",
    "    geom_point(aes(x = 'Cluster',\n",
    "                   y = 'Cost'))+\n",
    "    geom_label(aes(x = 'Cluster',\n",
    "                   y = 'Cost',\n",
    "                   label = 'Cluster'),\n",
    "               size = 10,\n",
    "               nudge_y = 1000) +\n",
    "    labs(title = 'Optimal number of cluster with Elbow Method')+\n",
    "    xlab('Number of Clusters k')+\n",
    "    ylab('Cost')+\n",
    "    theme_minimal()\n",
    ")"
   ]
  },
  {
   "cell_type": "code",
   "execution_count": 49,
   "metadata": {},
   "outputs": [],
   "source": [
    "# Import module for data manipulation\n",
    "import pandas as pd\n",
    "# Import module for linear algebra\n",
    "import numpy as np\n",
    "\n",
    "# Import module for k-protoype cluster\n",
    "from kmodes.kprototypes import KPrototypes"
   ]
  },
  {
   "cell_type": "code",
   "execution_count": 50,
   "metadata": {},
   "outputs": [
    {
     "data": {
      "text/plain": [
       "array([1, 1, 1, ..., 3, 3, 3], dtype=uint16)"
      ]
     },
     "execution_count": 50,
     "metadata": {},
     "output_type": "execute_result"
    }
   ],
   "source": [
    "# Fit the cluster\n",
    "kprototype = KPrototypes(n_jobs = -1, n_clusters = 4, init = 'Huang', random_state = 0)\n",
    "kprototype.fit_predict(transformed_input, categorical = catColumnsPos)"
   ]
  },
  {
   "cell_type": "code",
   "execution_count": 51,
   "metadata": {},
   "outputs": [
    {
     "name": "stdout",
     "output_type": "stream",
     "text": [
      "Index(['PCA_variable_1', 'PCA_variable_2', 'cap-shape', 'cap-color',\n",
      "       'does-bruise-or-bleed', 'gill-attachment', 'gill-color', 'stem-color',\n",
      "       'has-ring', 'ring-type', 'habitat', 'season'],\n",
      "      dtype='object')\n",
      "Cluster Centroid: [['3.1257094026860934' '-2.9998863948230765' 'o' 'n' 'f' 'f' 'f' 'n' 'f'\n",
      "  'f' 'd' 'u']\n",
      " ['0.627712034205082' '0.10095931319679016' 'x' 'n' 'f' 'd' 'w' 'w' 'f'\n",
      "  'f' 'd' 'a']\n",
      " ['3.218796628417646' '8.271961792987213' 'o' 'y' 'f' 'p' 'y' 'k' 'f' 'f'\n",
      "  'd' 'u']\n",
      " ['-0.6232759617066544' '-0.054177316092964285' 'x' 'n' 'f' 'a' 'w' 'n'\n",
      "  'f' 'f' 'd' 'a']]\n",
      "Iterations: 27\n",
      "Cost: 137729.3550520859\n"
     ]
    }
   ],
   "source": [
    "# Cluster centorid\n",
    "print(transformed_input.keys())\n",
    "print(\"Cluster Centroid:\",kprototype.cluster_centroids_)\n",
    "print(\"Iterations:\",kprototype.n_iter_)\n",
    "print(\"Cost:\",kprototype.cost_)"
   ]
  },
  {
   "cell_type": "code",
   "execution_count": null,
   "metadata": {},
   "outputs": [],
   "source": []
  }
 ],
 "metadata": {
  "kernelspec": {
   "display_name": "Python 3",
   "language": "python",
   "name": "python3"
  },
  "language_info": {
   "codemirror_mode": {
    "name": "ipython",
    "version": 3
   },
   "file_extension": ".py",
   "mimetype": "text/x-python",
   "name": "python",
   "nbconvert_exporter": "python",
   "pygments_lexer": "ipython3",
   "version": "3.8.5"
  }
 },
 "nbformat": 4,
 "nbformat_minor": 4
}
